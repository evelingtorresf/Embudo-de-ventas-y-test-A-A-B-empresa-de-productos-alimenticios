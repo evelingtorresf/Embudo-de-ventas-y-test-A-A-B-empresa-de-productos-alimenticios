{
 "cells": [
  {
   "cell_type": "markdown",
   "id": "5b0a80af-a572-43be-a491-b13b31558957",
   "metadata": {},
   "source": [
    "## Objetivo del proyecto:\n",
    "\n",
    "Investigar el comportamiento del usuario para la aplicación de una empresa emergente que vende productos alimenticios.\n",
    "\n",
    "* Primero: Estudiar el embudo de ventas. Descubrir cómo los usuarios y las usuarias llegan a la etapa de compra. ¿Cuántos usuarios o usuarias realmente llegan a esta etapa? ¿Cuántos se atascan en etapas anteriores? ¿Qué etapas en particular?\n",
    "\n",
    "* Segundo: Observar los resultados de un test A/A/B. Al equipo de diseño le gustaría cambiar las fuentes de toda la aplicación, pero la gerencia teme que los usuarios y las usuarias piensen que el nuevo diseño es intimidante. Por ello, deciden tomar una decisión basada en los resultados de un test A/A/B.\n"
   ]
  },
  {
   "cell_type": "markdown",
   "id": "d0d55213-b42a-4e2d-9a32-76a26104da09",
   "metadata": {},
   "source": [
    "## Importamos las librerías necesarias"
   ]
  },
  {
   "cell_type": "code",
   "execution_count": 1,
   "id": "4795210e-0fa8-46dd-bddf-3a06fd3a251d",
   "metadata": {},
   "outputs": [],
   "source": [
    "import pandas as pd\n",
    "import matplotlib.pyplot as plt\n",
    "import numpy as np\n",
    "import datetime as dt\n",
    "import scipy.stats as stats"
   ]
  },
  {
   "cell_type": "markdown",
   "id": "72661bd4-3ce5-4f79-b377-84fbf7b08368",
   "metadata": {},
   "source": [
    "## Importamos nuestros archivos"
   ]
  },
  {
   "cell_type": "code",
   "execution_count": 2,
   "id": "d195464d-85ff-4e2e-9e1e-2c52718b04ff",
   "metadata": {},
   "outputs": [],
   "source": [
    "eventos= pd.read_csv(\"logs_exp_us.csv\", )"
   ]
  },
  {
   "cell_type": "code",
   "execution_count": 3,
   "id": "74cc57d3-b78e-4ca6-b68e-bb488023beee",
   "metadata": {},
   "outputs": [
    {
     "data": {
      "text/html": [
       "<div>\n",
       "<style scoped>\n",
       "    .dataframe tbody tr th:only-of-type {\n",
       "        vertical-align: middle;\n",
       "    }\n",
       "\n",
       "    .dataframe tbody tr th {\n",
       "        vertical-align: top;\n",
       "    }\n",
       "\n",
       "    .dataframe thead th {\n",
       "        text-align: right;\n",
       "    }\n",
       "</style>\n",
       "<table border=\"1\" class=\"dataframe\">\n",
       "  <thead>\n",
       "    <tr style=\"text-align: right;\">\n",
       "      <th></th>\n",
       "      <th>EventName\\tDeviceIDHash\\tEventTimestamp\\tExpId</th>\n",
       "    </tr>\n",
       "  </thead>\n",
       "  <tbody>\n",
       "    <tr>\n",
       "      <th>0</th>\n",
       "      <td>MainScreenAppear\\t4575588528974610257\\t1564029...</td>\n",
       "    </tr>\n",
       "    <tr>\n",
       "      <th>1</th>\n",
       "      <td>MainScreenAppear\\t7416695313311560658\\t1564053...</td>\n",
       "    </tr>\n",
       "    <tr>\n",
       "      <th>2</th>\n",
       "      <td>PaymentScreenSuccessful\\t3518123091307005509\\t...</td>\n",
       "    </tr>\n",
       "  </tbody>\n",
       "</table>\n",
       "</div>"
      ],
      "text/plain": [
       "      EventName\\tDeviceIDHash\\tEventTimestamp\\tExpId\n",
       "0  MainScreenAppear\\t4575588528974610257\\t1564029...\n",
       "1  MainScreenAppear\\t7416695313311560658\\t1564053...\n",
       "2  PaymentScreenSuccessful\\t3518123091307005509\\t..."
      ]
     },
     "execution_count": 3,
     "metadata": {},
     "output_type": "execute_result"
    }
   ],
   "source": [
    "eventos.head(3)"
   ]
  },
  {
   "cell_type": "code",
   "execution_count": 4,
   "id": "3f584bb6-aa89-45b2-867c-2745ca2fdb96",
   "metadata": {},
   "outputs": [],
   "source": [
    "eventos= pd.read_csv(\"/datasets/logs_exp_us.csv\", sep=\"\\t\" )"
   ]
  },
  {
   "cell_type": "code",
   "execution_count": 5,
   "id": "cfb176e6-d7d7-4466-90bf-80fad7911347",
   "metadata": {},
   "outputs": [
    {
     "data": {
      "text/html": [
       "<div>\n",
       "<style scoped>\n",
       "    .dataframe tbody tr th:only-of-type {\n",
       "        vertical-align: middle;\n",
       "    }\n",
       "\n",
       "    .dataframe tbody tr th {\n",
       "        vertical-align: top;\n",
       "    }\n",
       "\n",
       "    .dataframe thead th {\n",
       "        text-align: right;\n",
       "    }\n",
       "</style>\n",
       "<table border=\"1\" class=\"dataframe\">\n",
       "  <thead>\n",
       "    <tr style=\"text-align: right;\">\n",
       "      <th></th>\n",
       "      <th>EventName</th>\n",
       "      <th>DeviceIDHash</th>\n",
       "      <th>EventTimestamp</th>\n",
       "      <th>ExpId</th>\n",
       "    </tr>\n",
       "  </thead>\n",
       "  <tbody>\n",
       "    <tr>\n",
       "      <th>0</th>\n",
       "      <td>MainScreenAppear</td>\n",
       "      <td>4575588528974610257</td>\n",
       "      <td>1564029816</td>\n",
       "      <td>246</td>\n",
       "    </tr>\n",
       "    <tr>\n",
       "      <th>1</th>\n",
       "      <td>MainScreenAppear</td>\n",
       "      <td>7416695313311560658</td>\n",
       "      <td>1564053102</td>\n",
       "      <td>246</td>\n",
       "    </tr>\n",
       "    <tr>\n",
       "      <th>2</th>\n",
       "      <td>PaymentScreenSuccessful</td>\n",
       "      <td>3518123091307005509</td>\n",
       "      <td>1564054127</td>\n",
       "      <td>248</td>\n",
       "    </tr>\n",
       "  </tbody>\n",
       "</table>\n",
       "</div>"
      ],
      "text/plain": [
       "                 EventName         DeviceIDHash  EventTimestamp  ExpId\n",
       "0         MainScreenAppear  4575588528974610257      1564029816    246\n",
       "1         MainScreenAppear  7416695313311560658      1564053102    246\n",
       "2  PaymentScreenSuccessful  3518123091307005509      1564054127    248"
      ]
     },
     "execution_count": 5,
     "metadata": {},
     "output_type": "execute_result"
    }
   ],
   "source": [
    "eventos.head(3)"
   ]
  },
  {
   "cell_type": "markdown",
   "id": "e84699c6-6ad1-4034-a356-f2a9e822d62d",
   "metadata": {},
   "source": [
    "## Preparar los datos para el análisis"
   ]
  },
  {
   "cell_type": "markdown",
   "id": "87af0521-ebf3-42bb-a626-6c726a431e69",
   "metadata": {},
   "source": [
    "•\tComprueba si hay tipos de datos y valores ausentes. Corrige los datos si es necesario"
   ]
  },
  {
   "cell_type": "code",
   "execution_count": 6,
   "id": "c8d249bf-161a-4f28-838e-dfdc4c5b8003",
   "metadata": {},
   "outputs": [
    {
     "name": "stdout",
     "output_type": "stream",
     "text": [
      "<class 'pandas.core.frame.DataFrame'>\n",
      "RangeIndex: 244126 entries, 0 to 244125\n",
      "Data columns (total 4 columns):\n",
      " #   Column          Non-Null Count   Dtype \n",
      "---  ------          --------------   ----- \n",
      " 0   EventName       244126 non-null  object\n",
      " 1   DeviceIDHash    244126 non-null  int64 \n",
      " 2   EventTimestamp  244126 non-null  int64 \n",
      " 3   ExpId           244126 non-null  int64 \n",
      "dtypes: int64(3), object(1)\n",
      "memory usage: 7.5+ MB\n"
     ]
    }
   ],
   "source": [
    "eventos.info()"
   ]
  },
  {
   "cell_type": "markdown",
   "id": "19488e14-b07f-4c4f-b162-8c327c26b941",
   "metadata": {},
   "source": [
    "•\tCambia el nombre de las columnas de manera que sea conveniente para ti."
   ]
  },
  {
   "cell_type": "code",
   "execution_count": 7,
   "id": "e5478764-de20-4078-b716-983b0b291d00",
   "metadata": {},
   "outputs": [],
   "source": [
    "eventos.columns= [\"nombre_evento\",\"id_usuario\",\"evento_timestamp\", \"grupo_de_control\"]"
   ]
  },
  {
   "cell_type": "markdown",
   "id": "45984d26-2209-4e22-92a6-e1ad3800ee9b",
   "metadata": {},
   "source": [
    "•\tAgrega una columna de fecha y hora y una columna separada para las fechas"
   ]
  },
  {
   "cell_type": "code",
   "execution_count": 8,
   "id": "76e3af65-aa5a-4af4-aa6d-2b8dba66a8b6",
   "metadata": {},
   "outputs": [],
   "source": [
    "eventos[\"fecha_hora_evento_dt\"] = pd.to_datetime(eventos[\"evento_timestamp\"], unit=\"s\")"
   ]
  },
  {
   "cell_type": "code",
   "execution_count": 9,
   "id": "dd52525b-ca8b-4702-bc84-915bd06113cd",
   "metadata": {},
   "outputs": [
    {
     "data": {
      "text/html": [
       "<div>\n",
       "<style scoped>\n",
       "    .dataframe tbody tr th:only-of-type {\n",
       "        vertical-align: middle;\n",
       "    }\n",
       "\n",
       "    .dataframe tbody tr th {\n",
       "        vertical-align: top;\n",
       "    }\n",
       "\n",
       "    .dataframe thead th {\n",
       "        text-align: right;\n",
       "    }\n",
       "</style>\n",
       "<table border=\"1\" class=\"dataframe\">\n",
       "  <thead>\n",
       "    <tr style=\"text-align: right;\">\n",
       "      <th></th>\n",
       "      <th>nombre_evento</th>\n",
       "      <th>id_usuario</th>\n",
       "      <th>evento_timestamp</th>\n",
       "      <th>grupo_de_control</th>\n",
       "      <th>fecha_hora_evento_dt</th>\n",
       "    </tr>\n",
       "  </thead>\n",
       "  <tbody>\n",
       "    <tr>\n",
       "      <th>0</th>\n",
       "      <td>MainScreenAppear</td>\n",
       "      <td>4575588528974610257</td>\n",
       "      <td>1564029816</td>\n",
       "      <td>246</td>\n",
       "      <td>2019-07-25 04:43:36</td>\n",
       "    </tr>\n",
       "    <tr>\n",
       "      <th>1</th>\n",
       "      <td>MainScreenAppear</td>\n",
       "      <td>7416695313311560658</td>\n",
       "      <td>1564053102</td>\n",
       "      <td>246</td>\n",
       "      <td>2019-07-25 11:11:42</td>\n",
       "    </tr>\n",
       "    <tr>\n",
       "      <th>2</th>\n",
       "      <td>PaymentScreenSuccessful</td>\n",
       "      <td>3518123091307005509</td>\n",
       "      <td>1564054127</td>\n",
       "      <td>248</td>\n",
       "      <td>2019-07-25 11:28:47</td>\n",
       "    </tr>\n",
       "  </tbody>\n",
       "</table>\n",
       "</div>"
      ],
      "text/plain": [
       "             nombre_evento           id_usuario  evento_timestamp  \\\n",
       "0         MainScreenAppear  4575588528974610257        1564029816   \n",
       "1         MainScreenAppear  7416695313311560658        1564053102   \n",
       "2  PaymentScreenSuccessful  3518123091307005509        1564054127   \n",
       "\n",
       "   grupo_de_control fecha_hora_evento_dt  \n",
       "0               246  2019-07-25 04:43:36  \n",
       "1               246  2019-07-25 11:11:42  \n",
       "2               248  2019-07-25 11:28:47  "
      ]
     },
     "execution_count": 9,
     "metadata": {},
     "output_type": "execute_result"
    }
   ],
   "source": [
    "eventos.head(3)"
   ]
  },
  {
   "cell_type": "markdown",
   "id": "3655d00d-26c1-4efe-a0ce-19438e90281c",
   "metadata": {},
   "source": [
    "Para agregar la columna de fecha usamos dt.date para convertir la columna con la fecha y la hora, así nos queda una columna separada solo con la fecha pero tipo string."
   ]
  },
  {
   "cell_type": "code",
   "execution_count": 10,
   "id": "56b8bf6f-835e-4da5-8fee-35a60421f3cc",
   "metadata": {},
   "outputs": [],
   "source": [
    "eventos[\"fecha_dt\"] = eventos[\"fecha_hora_evento_dt\"].dt.date"
   ]
  },
  {
   "cell_type": "code",
   "execution_count": 11,
   "id": "0b74a6b2-0144-4b9c-8b0c-cb244ae7b784",
   "metadata": {},
   "outputs": [
    {
     "data": {
      "text/html": [
       "<div>\n",
       "<style scoped>\n",
       "    .dataframe tbody tr th:only-of-type {\n",
       "        vertical-align: middle;\n",
       "    }\n",
       "\n",
       "    .dataframe tbody tr th {\n",
       "        vertical-align: top;\n",
       "    }\n",
       "\n",
       "    .dataframe thead th {\n",
       "        text-align: right;\n",
       "    }\n",
       "</style>\n",
       "<table border=\"1\" class=\"dataframe\">\n",
       "  <thead>\n",
       "    <tr style=\"text-align: right;\">\n",
       "      <th></th>\n",
       "      <th>nombre_evento</th>\n",
       "      <th>id_usuario</th>\n",
       "      <th>evento_timestamp</th>\n",
       "      <th>grupo_de_control</th>\n",
       "      <th>fecha_hora_evento_dt</th>\n",
       "      <th>fecha_dt</th>\n",
       "    </tr>\n",
       "  </thead>\n",
       "  <tbody>\n",
       "    <tr>\n",
       "      <th>0</th>\n",
       "      <td>MainScreenAppear</td>\n",
       "      <td>4575588528974610257</td>\n",
       "      <td>1564029816</td>\n",
       "      <td>246</td>\n",
       "      <td>2019-07-25 04:43:36</td>\n",
       "      <td>2019-07-25</td>\n",
       "    </tr>\n",
       "    <tr>\n",
       "      <th>1</th>\n",
       "      <td>MainScreenAppear</td>\n",
       "      <td>7416695313311560658</td>\n",
       "      <td>1564053102</td>\n",
       "      <td>246</td>\n",
       "      <td>2019-07-25 11:11:42</td>\n",
       "      <td>2019-07-25</td>\n",
       "    </tr>\n",
       "    <tr>\n",
       "      <th>2</th>\n",
       "      <td>PaymentScreenSuccessful</td>\n",
       "      <td>3518123091307005509</td>\n",
       "      <td>1564054127</td>\n",
       "      <td>248</td>\n",
       "      <td>2019-07-25 11:28:47</td>\n",
       "      <td>2019-07-25</td>\n",
       "    </tr>\n",
       "  </tbody>\n",
       "</table>\n",
       "</div>"
      ],
      "text/plain": [
       "             nombre_evento           id_usuario  evento_timestamp  \\\n",
       "0         MainScreenAppear  4575588528974610257        1564029816   \n",
       "1         MainScreenAppear  7416695313311560658        1564053102   \n",
       "2  PaymentScreenSuccessful  3518123091307005509        1564054127   \n",
       "\n",
       "   grupo_de_control fecha_hora_evento_dt    fecha_dt  \n",
       "0               246  2019-07-25 04:43:36  2019-07-25  \n",
       "1               246  2019-07-25 11:11:42  2019-07-25  \n",
       "2               248  2019-07-25 11:28:47  2019-07-25  "
      ]
     },
     "execution_count": 11,
     "metadata": {},
     "output_type": "execute_result"
    }
   ],
   "source": [
    "eventos.head(3)"
   ]
  },
  {
   "cell_type": "code",
   "execution_count": 12,
   "id": "b948c015-702d-43db-a06e-07586f44322a",
   "metadata": {},
   "outputs": [
    {
     "name": "stdout",
     "output_type": "stream",
     "text": [
      "<class 'pandas.core.frame.DataFrame'>\n",
      "RangeIndex: 244126 entries, 0 to 244125\n",
      "Data columns (total 6 columns):\n",
      " #   Column                Non-Null Count   Dtype         \n",
      "---  ------                --------------   -----         \n",
      " 0   nombre_evento         244126 non-null  object        \n",
      " 1   id_usuario            244126 non-null  int64         \n",
      " 2   evento_timestamp      244126 non-null  int64         \n",
      " 3   grupo_de_control      244126 non-null  int64         \n",
      " 4   fecha_hora_evento_dt  244126 non-null  datetime64[ns]\n",
      " 5   fecha_dt              244126 non-null  object        \n",
      "dtypes: datetime64[ns](1), int64(3), object(2)\n",
      "memory usage: 11.2+ MB\n"
     ]
    }
   ],
   "source": [
    "eventos.info()"
   ]
  },
  {
   "cell_type": "markdown",
   "id": "8e81fd5d-4f36-4cc0-8cda-940696edc0d2",
   "metadata": {},
   "source": [
    "Como tenemos la fecha en una columna aparte, pero tipo string entonces usamos pd.to_datetime para convertir esa misma columna a formato fecha. "
   ]
  },
  {
   "cell_type": "code",
   "execution_count": 13,
   "id": "0beea5ba-72f3-4fb4-ad7b-b3602cc48650",
   "metadata": {},
   "outputs": [],
   "source": [
    "eventos[\"fecha_dt\"] = pd.to_datetime(eventos[\"fecha_dt\"], format=\"%Y-%m-%d\")"
   ]
  },
  {
   "cell_type": "code",
   "execution_count": 14,
   "id": "3a351ce2-bfb3-48b6-8ae9-20fca726a133",
   "metadata": {},
   "outputs": [
    {
     "name": "stdout",
     "output_type": "stream",
     "text": [
      "<class 'pandas.core.frame.DataFrame'>\n",
      "RangeIndex: 244126 entries, 0 to 244125\n",
      "Data columns (total 6 columns):\n",
      " #   Column                Non-Null Count   Dtype         \n",
      "---  ------                --------------   -----         \n",
      " 0   nombre_evento         244126 non-null  object        \n",
      " 1   id_usuario            244126 non-null  int64         \n",
      " 2   evento_timestamp      244126 non-null  int64         \n",
      " 3   grupo_de_control      244126 non-null  int64         \n",
      " 4   fecha_hora_evento_dt  244126 non-null  datetime64[ns]\n",
      " 5   fecha_dt              244126 non-null  datetime64[ns]\n",
      "dtypes: datetime64[ns](2), int64(3), object(1)\n",
      "memory usage: 11.2+ MB\n"
     ]
    }
   ],
   "source": [
    "eventos.info()"
   ]
  },
  {
   "cell_type": "code",
   "execution_count": 15,
   "id": "53cee927-f9e9-4621-afb5-517669570249",
   "metadata": {},
   "outputs": [
    {
     "data": {
      "text/html": [
       "<div>\n",
       "<style scoped>\n",
       "    .dataframe tbody tr th:only-of-type {\n",
       "        vertical-align: middle;\n",
       "    }\n",
       "\n",
       "    .dataframe tbody tr th {\n",
       "        vertical-align: top;\n",
       "    }\n",
       "\n",
       "    .dataframe thead th {\n",
       "        text-align: right;\n",
       "    }\n",
       "</style>\n",
       "<table border=\"1\" class=\"dataframe\">\n",
       "  <thead>\n",
       "    <tr style=\"text-align: right;\">\n",
       "      <th></th>\n",
       "      <th>nombre_evento</th>\n",
       "      <th>id_usuario</th>\n",
       "      <th>evento_timestamp</th>\n",
       "      <th>grupo_de_control</th>\n",
       "      <th>fecha_hora_evento_dt</th>\n",
       "      <th>fecha_dt</th>\n",
       "    </tr>\n",
       "  </thead>\n",
       "  <tbody>\n",
       "    <tr>\n",
       "      <th>0</th>\n",
       "      <td>MainScreenAppear</td>\n",
       "      <td>4575588528974610257</td>\n",
       "      <td>1564029816</td>\n",
       "      <td>246</td>\n",
       "      <td>2019-07-25 04:43:36</td>\n",
       "      <td>2019-07-25</td>\n",
       "    </tr>\n",
       "    <tr>\n",
       "      <th>1</th>\n",
       "      <td>MainScreenAppear</td>\n",
       "      <td>7416695313311560658</td>\n",
       "      <td>1564053102</td>\n",
       "      <td>246</td>\n",
       "      <td>2019-07-25 11:11:42</td>\n",
       "      <td>2019-07-25</td>\n",
       "    </tr>\n",
       "    <tr>\n",
       "      <th>2</th>\n",
       "      <td>PaymentScreenSuccessful</td>\n",
       "      <td>3518123091307005509</td>\n",
       "      <td>1564054127</td>\n",
       "      <td>248</td>\n",
       "      <td>2019-07-25 11:28:47</td>\n",
       "      <td>2019-07-25</td>\n",
       "    </tr>\n",
       "  </tbody>\n",
       "</table>\n",
       "</div>"
      ],
      "text/plain": [
       "             nombre_evento           id_usuario  evento_timestamp  \\\n",
       "0         MainScreenAppear  4575588528974610257        1564029816   \n",
       "1         MainScreenAppear  7416695313311560658        1564053102   \n",
       "2  PaymentScreenSuccessful  3518123091307005509        1564054127   \n",
       "\n",
       "   grupo_de_control fecha_hora_evento_dt   fecha_dt  \n",
       "0               246  2019-07-25 04:43:36 2019-07-25  \n",
       "1               246  2019-07-25 11:11:42 2019-07-25  \n",
       "2               248  2019-07-25 11:28:47 2019-07-25  "
      ]
     },
     "execution_count": 15,
     "metadata": {},
     "output_type": "execute_result"
    }
   ],
   "source": [
    "eventos.head(3)"
   ]
  },
  {
   "cell_type": "markdown",
   "id": "2f141db0-a1a6-4036-8110-9b0e502b6460",
   "metadata": {},
   "source": [
    "Verificamos si hay filas exactamente duplicadas y las eliminamos."
   ]
  },
  {
   "cell_type": "code",
   "execution_count": 16,
   "id": "01e291d5-a9c9-41ef-8f71-83c79d7a5a78",
   "metadata": {},
   "outputs": [
    {
     "data": {
      "text/plain": [
       "413"
      ]
     },
     "execution_count": 16,
     "metadata": {},
     "output_type": "execute_result"
    }
   ],
   "source": [
    "eventos.duplicated().sum()"
   ]
  },
  {
   "cell_type": "code",
   "execution_count": 17,
   "id": "8d9c689d-f254-4e32-8198-fc65a0aa6f41",
   "metadata": {},
   "outputs": [],
   "source": [
    "eventos = eventos.drop_duplicates()"
   ]
  },
  {
   "cell_type": "code",
   "execution_count": 18,
   "id": "aa5e3f57-1cf8-479d-9834-306d303b44d5",
   "metadata": {},
   "outputs": [
    {
     "data": {
      "text/plain": [
       "0"
      ]
     },
     "execution_count": 18,
     "metadata": {},
     "output_type": "execute_result"
    }
   ],
   "source": [
    "eventos.duplicated().sum()"
   ]
  },
  {
   "cell_type": "code",
   "execution_count": 19,
   "id": "048ac871-1336-45ca-974d-58e863cb1a52",
   "metadata": {},
   "outputs": [
    {
     "name": "stdout",
     "output_type": "stream",
     "text": [
      "<class 'pandas.core.frame.DataFrame'>\n",
      "Int64Index: 243713 entries, 0 to 244125\n",
      "Data columns (total 6 columns):\n",
      " #   Column                Non-Null Count   Dtype         \n",
      "---  ------                --------------   -----         \n",
      " 0   nombre_evento         243713 non-null  object        \n",
      " 1   id_usuario            243713 non-null  int64         \n",
      " 2   evento_timestamp      243713 non-null  int64         \n",
      " 3   grupo_de_control      243713 non-null  int64         \n",
      " 4   fecha_hora_evento_dt  243713 non-null  datetime64[ns]\n",
      " 5   fecha_dt              243713 non-null  datetime64[ns]\n",
      "dtypes: datetime64[ns](2), int64(3), object(1)\n",
      "memory usage: 13.0+ MB\n"
     ]
    }
   ],
   "source": [
    "eventos.info()"
   ]
  },
  {
   "cell_type": "markdown",
   "id": "db4de8ed-9123-43fa-ac07-5d059860fb88",
   "metadata": {},
   "source": [
    "## Estudiar y comprobar los datos"
   ]
  },
  {
   "cell_type": "markdown",
   "id": "2562f2e9-6561-4a71-b654-82a52a83eb69",
   "metadata": {},
   "source": [
    "•\t¿Cuántos eventos hay en los registros?"
   ]
  },
  {
   "cell_type": "code",
   "execution_count": 20,
   "id": "aba54430-54b0-4fcd-b7a7-5234a9928c57",
   "metadata": {},
   "outputs": [
    {
     "data": {
      "text/plain": [
       "5"
      ]
     },
     "execution_count": 20,
     "metadata": {},
     "output_type": "execute_result"
    }
   ],
   "source": [
    "eventos[\"nombre_evento\"].nunique()"
   ]
  },
  {
   "cell_type": "code",
   "execution_count": 21,
   "id": "809e9ca9-d827-477e-a85d-9ebb22a3e672",
   "metadata": {},
   "outputs": [
    {
     "data": {
      "text/plain": [
       "array(['MainScreenAppear', 'PaymentScreenSuccessful', 'CartScreenAppear',\n",
       "       'OffersScreenAppear', 'Tutorial'], dtype=object)"
      ]
     },
     "execution_count": 21,
     "metadata": {},
     "output_type": "execute_result"
    }
   ],
   "source": [
    "eventos[\"nombre_evento\"].unique()"
   ]
  },
  {
   "cell_type": "code",
   "execution_count": 22,
   "id": "be0f48e3-f159-4882-9b15-18115de56c2a",
   "metadata": {},
   "outputs": [
    {
     "data": {
      "text/plain": [
       "MainScreenAppear           119101\n",
       "OffersScreenAppear          46808\n",
       "CartScreenAppear            42668\n",
       "PaymentScreenSuccessful     34118\n",
       "Tutorial                     1018\n",
       "Name: nombre_evento, dtype: int64"
      ]
     },
     "execution_count": 22,
     "metadata": {},
     "output_type": "execute_result"
    }
   ],
   "source": [
    "eventos[\"nombre_evento\"].value_counts()"
   ]
  },
  {
   "cell_type": "markdown",
   "id": "bffd2936-74bb-4133-b552-6b7a45ec2725",
   "metadata": {},
   "source": [
    "Hay 5 eventos distintos en los datos."
   ]
  },
  {
   "cell_type": "markdown",
   "id": "a030015b-61d6-41a1-b9dc-37a733ddec80",
   "metadata": {},
   "source": [
    "•\t¿Cuántos usuarios y usuarias hay en los registros?"
   ]
  },
  {
   "cell_type": "code",
   "execution_count": 23,
   "id": "6b79b5a2-4cc3-44cd-b863-73feea13d2f6",
   "metadata": {},
   "outputs": [
    {
     "data": {
      "text/plain": [
       "7551"
      ]
     },
     "execution_count": 23,
     "metadata": {},
     "output_type": "execute_result"
    }
   ],
   "source": [
    "eventos[\"id_usuario\"].nunique()"
   ]
  },
  {
   "cell_type": "code",
   "execution_count": 24,
   "id": "5c6de327-a656-49f0-b0c5-b7e6eccbefcd",
   "metadata": {},
   "outputs": [
    {
     "data": {
      "text/plain": [
       "6304868067479728361    2307\n",
       "197027893265565660     1998\n",
       "4623191541214045580    1768\n",
       "6932517045703054087    1439\n",
       "1754140665440434215    1221\n",
       "                       ... \n",
       "395376432319166724        1\n",
       "404128138074395619        1\n",
       "6936517579657223951       1\n",
       "5138854326043201424       1\n",
       "3954096321632083010       1\n",
       "Name: id_usuario, Length: 7551, dtype: int64"
      ]
     },
     "execution_count": 24,
     "metadata": {},
     "output_type": "execute_result"
    }
   ],
   "source": [
    "eventos[\"id_usuario\"].value_counts()"
   ]
  },
  {
   "cell_type": "markdown",
   "id": "80961f1d-3b43-4e58-a8c1-bc9b3972cfe6",
   "metadata": {},
   "source": [
    "Hay 7551 usuarios unicos en los datos."
   ]
  },
  {
   "cell_type": "markdown",
   "id": "df95241f-f9e8-4f70-afd6-e547d1638a40",
   "metadata": {},
   "source": [
    "•\t¿Cuál es el promedio de eventos por usuario?"
   ]
  },
  {
   "cell_type": "code",
   "execution_count": 25,
   "id": "f018bd07-6b21-454a-8d95-b74800ad2a92",
   "metadata": {},
   "outputs": [],
   "source": [
    "eventos_usuario = eventos.groupby(\"id_usuario\", as_index=False)[\"nombre_evento\"].count()"
   ]
  },
  {
   "cell_type": "code",
   "execution_count": 26,
   "id": "8af23618-bad6-4f29-98a4-b3190282f577",
   "metadata": {},
   "outputs": [
    {
     "data": {
      "text/html": [
       "<div>\n",
       "<style scoped>\n",
       "    .dataframe tbody tr th:only-of-type {\n",
       "        vertical-align: middle;\n",
       "    }\n",
       "\n",
       "    .dataframe tbody tr th {\n",
       "        vertical-align: top;\n",
       "    }\n",
       "\n",
       "    .dataframe thead th {\n",
       "        text-align: right;\n",
       "    }\n",
       "</style>\n",
       "<table border=\"1\" class=\"dataframe\">\n",
       "  <thead>\n",
       "    <tr style=\"text-align: right;\">\n",
       "      <th></th>\n",
       "      <th>id_usuario</th>\n",
       "      <th>nombre_evento</th>\n",
       "    </tr>\n",
       "  </thead>\n",
       "  <tbody>\n",
       "    <tr>\n",
       "      <th>0</th>\n",
       "      <td>6888746892508752</td>\n",
       "      <td>1</td>\n",
       "    </tr>\n",
       "    <tr>\n",
       "      <th>1</th>\n",
       "      <td>6909561520679493</td>\n",
       "      <td>5</td>\n",
       "    </tr>\n",
       "    <tr>\n",
       "      <th>2</th>\n",
       "      <td>6922444491712477</td>\n",
       "      <td>47</td>\n",
       "    </tr>\n",
       "  </tbody>\n",
       "</table>\n",
       "</div>"
      ],
      "text/plain": [
       "         id_usuario  nombre_evento\n",
       "0  6888746892508752              1\n",
       "1  6909561520679493              5\n",
       "2  6922444491712477             47"
      ]
     },
     "execution_count": 26,
     "metadata": {},
     "output_type": "execute_result"
    }
   ],
   "source": [
    "eventos_usuario.head(3)"
   ]
  },
  {
   "cell_type": "code",
   "execution_count": 27,
   "id": "93756e8e-6267-45cb-97de-dde652a37dbf",
   "metadata": {},
   "outputs": [
    {
     "data": {
      "text/html": [
       "<div>\n",
       "<style scoped>\n",
       "    .dataframe tbody tr th:only-of-type {\n",
       "        vertical-align: middle;\n",
       "    }\n",
       "\n",
       "    .dataframe tbody tr th {\n",
       "        vertical-align: top;\n",
       "    }\n",
       "\n",
       "    .dataframe thead th {\n",
       "        text-align: right;\n",
       "    }\n",
       "</style>\n",
       "<table border=\"1\" class=\"dataframe\">\n",
       "  <thead>\n",
       "    <tr style=\"text-align: right;\">\n",
       "      <th></th>\n",
       "      <th>id_usuario</th>\n",
       "      <th>nombre_evento</th>\n",
       "    </tr>\n",
       "  </thead>\n",
       "  <tbody>\n",
       "    <tr>\n",
       "      <th>count</th>\n",
       "      <td>7.551000e+03</td>\n",
       "      <td>7551.000000</td>\n",
       "    </tr>\n",
       "    <tr>\n",
       "      <th>mean</th>\n",
       "      <td>4.677319e+18</td>\n",
       "      <td>32.275593</td>\n",
       "    </tr>\n",
       "    <tr>\n",
       "      <th>std</th>\n",
       "      <td>2.655343e+18</td>\n",
       "      <td>65.154219</td>\n",
       "    </tr>\n",
       "    <tr>\n",
       "      <th>min</th>\n",
       "      <td>6.888747e+15</td>\n",
       "      <td>1.000000</td>\n",
       "    </tr>\n",
       "    <tr>\n",
       "      <th>25%</th>\n",
       "      <td>2.397700e+18</td>\n",
       "      <td>9.000000</td>\n",
       "    </tr>\n",
       "    <tr>\n",
       "      <th>50%</th>\n",
       "      <td>4.688022e+18</td>\n",
       "      <td>20.000000</td>\n",
       "    </tr>\n",
       "    <tr>\n",
       "      <th>75%</th>\n",
       "      <td>7.007353e+18</td>\n",
       "      <td>37.000000</td>\n",
       "    </tr>\n",
       "    <tr>\n",
       "      <th>max</th>\n",
       "      <td>9.222603e+18</td>\n",
       "      <td>2307.000000</td>\n",
       "    </tr>\n",
       "  </tbody>\n",
       "</table>\n",
       "</div>"
      ],
      "text/plain": [
       "         id_usuario  nombre_evento\n",
       "count  7.551000e+03    7551.000000\n",
       "mean   4.677319e+18      32.275593\n",
       "std    2.655343e+18      65.154219\n",
       "min    6.888747e+15       1.000000\n",
       "25%    2.397700e+18       9.000000\n",
       "50%    4.688022e+18      20.000000\n",
       "75%    7.007353e+18      37.000000\n",
       "max    9.222603e+18    2307.000000"
      ]
     },
     "execution_count": 27,
     "metadata": {},
     "output_type": "execute_result"
    }
   ],
   "source": [
    "eventos_usuario.describe()"
   ]
  },
  {
   "cell_type": "code",
   "execution_count": 28,
   "id": "c6c1d090-7e7c-4344-a3c4-f71091834b8b",
   "metadata": {},
   "outputs": [
    {
     "data": {
      "text/html": [
       "<div>\n",
       "<style scoped>\n",
       "    .dataframe tbody tr th:only-of-type {\n",
       "        vertical-align: middle;\n",
       "    }\n",
       "\n",
       "    .dataframe tbody tr th {\n",
       "        vertical-align: top;\n",
       "    }\n",
       "\n",
       "    .dataframe thead th {\n",
       "        text-align: right;\n",
       "    }\n",
       "</style>\n",
       "<table border=\"1\" class=\"dataframe\">\n",
       "  <thead>\n",
       "    <tr style=\"text-align: right;\">\n",
       "      <th></th>\n",
       "      <th>id_usuario</th>\n",
       "      <th>nombre_evento</th>\n",
       "    </tr>\n",
       "  </thead>\n",
       "  <tbody>\n",
       "    <tr>\n",
       "      <th>5116</th>\n",
       "      <td>6304868067479728361</td>\n",
       "      <td>2307</td>\n",
       "    </tr>\n",
       "  </tbody>\n",
       "</table>\n",
       "</div>"
      ],
      "text/plain": [
       "               id_usuario  nombre_evento\n",
       "5116  6304868067479728361           2307"
      ]
     },
     "execution_count": 28,
     "metadata": {},
     "output_type": "execute_result"
    }
   ],
   "source": [
    "eventos_usuario[eventos_usuario[\"nombre_evento\"]==2307]"
   ]
  },
  {
   "cell_type": "markdown",
   "id": "b038d9d1-4572-45a7-8208-31e1c2b0dfb8",
   "metadata": {},
   "source": [
    "El promedio de eventos por usuario es de 32."
   ]
  },
  {
   "cell_type": "markdown",
   "id": "5c55e15f-b6e8-4464-a2dd-bcdf49245bd6",
   "metadata": {},
   "source": [
    "•\t¿Qué periodo de tiempo cubren los datos? Encuentra la fecha máxima y mínima. "
   ]
  },
  {
   "cell_type": "code",
   "execution_count": 29,
   "id": "ff6b89e9-2106-433a-9ea6-4dfe603b6467",
   "metadata": {},
   "outputs": [
    {
     "data": {
      "text/plain": [
       "count                  243713\n",
       "unique                     14\n",
       "top       2019-08-01 00:00:00\n",
       "freq                    36141\n",
       "first     2019-07-25 00:00:00\n",
       "last      2019-08-07 00:00:00\n",
       "Name: fecha_dt, dtype: object"
      ]
     },
     "execution_count": 29,
     "metadata": {},
     "output_type": "execute_result"
    }
   ],
   "source": [
    "eventos[\"fecha_dt\"].describe()"
   ]
  },
  {
   "cell_type": "markdown",
   "id": "3056552a-8bbd-4e21-8aa1-5e8b788e14dc",
   "metadata": {},
   "source": [
    "Los datos cubren del 25 de julio de 2019 al 07 de agosto de 2019"
   ]
  },
  {
   "cell_type": "markdown",
   "id": "8f087d7f-5639-4366-a5ad-02b361eef2d8",
   "metadata": {},
   "source": [
    "Traza un histograma por fecha y hora. ¿Puedes tener seguridad de que tienes datos igualmente completos para todo el periodo? Los eventos más antiguos podrían terminar en los registros de algunos usuarios o usuarias por razones técnicas y esto podría sesgar el panorama general. Encuentra el momento en el que los datos comienzan a estar completos e ignora la sección anterior. ¿Qué periodo representan realmente los datos?"
   ]
  },
  {
   "cell_type": "code",
   "execution_count": 30,
   "id": "ecac80c6-23cf-4212-af47-7c03c1802278",
   "metadata": {},
   "outputs": [
    {
     "data": {
      "image/png": "[encoded data removed]",
      "text/plain": [
       "<Figure size 640x480 with 1 Axes>"
      ]
     },
     "metadata": {},
     "output_type": "display_data"
    }
   ],
   "source": [
    "eventos[\"fecha_hora_evento_dt\"].hist()\n",
    "plt.xticks(rotation = 45)\n",
    "plt.show()"
   ]
  },
  {
   "cell_type": "markdown",
   "id": "9cf28af9-9989-45a1-8cce-dc3df0b4f162",
   "metadata": {},
   "source": [
    "Los 5 eventos que tenemos son:\n",
    "* MainScreenAppear  - Aparece Pantalla Principal\n",
    "* OffersScreenAppear - Aparecen Ofertas en la Pantalla   \n",
    "* CartScreenAppear  - Aparecer el Carro en la Pantalla         \n",
    "* PaymentScreenSuccessful - Pago en Pantalla Exitoso\n",
    "* Tutorial  - Tutoría         \n",
    "\n",
    "Analizando los 5 eventos, se intuye que el evento \"MainScreenAppear  - Aparece Pantalla Principal\" ,  es el primero que ocurre en una sesión normal de un usuario, por lo tanto si los datos estuvieran consistentes, en el histograma de este evento no deberian haber diferencias tan marcadas en la distribución de datos en los diferentes dias para este evento."
   ]
  },
  {
   "cell_type": "markdown",
   "id": "49aab8cc-3f09-4f25-81e5-b8a0b2154066",
   "metadata": {},
   "source": [
    "* Evento MainScreenAppear, Aparece Pantalla Principal"
   ]
  },
  {
   "cell_type": "code",
   "execution_count": 31,
   "id": "88dc3013-5d3f-47e4-b165-f43c284c415a",
   "metadata": {},
   "outputs": [
    {
     "data": {
      "image/png": "[encoded data removed]",
      "text/plain": [
       "<Figure size 640x480 with 1 Axes>"
      ]
     },
     "metadata": {},
     "output_type": "display_data"
    }
   ],
   "source": [
    "eventos[eventos[\"nombre_evento\"]== \"MainScreenAppear\"][\"fecha_hora_evento_dt\"].hist()\n",
    "plt.xticks(rotation=45)\n",
    "plt.show()"
   ]
  },
  {
   "cell_type": "markdown",
   "id": "84abee45-8c90-40bb-95fb-eeb1383fa73e",
   "metadata": {},
   "source": [
    "Según los dos histogramas anteriores, se observa que desde el 01-08-2019 los datos se encuentran completos, pues de allí hacia atrás el volumen de informacón es bastante baja indicandonos que algo pudo suceder con esos días. Es por esto que vamos a crear un dataframe que contemple solo los datos desde el 01-08-2019 al 07-08-2019."
   ]
  },
  {
   "cell_type": "code",
   "execution_count": 32,
   "id": "436fec39-e851-4b1b-acf0-6961c9b58416",
   "metadata": {},
   "outputs": [],
   "source": [
    "eventos_limpio = eventos[eventos[\"fecha_dt\"]>=\"2019-08-01\"]"
   ]
  },
  {
   "cell_type": "code",
   "execution_count": 33,
   "id": "c995ca28-68d2-4c57-8d6c-01b3d2423233",
   "metadata": {},
   "outputs": [
    {
     "data": {
      "image/png": "[encoded data removed]",
      "text/plain": [
       "<Figure size 640x480 with 1 Axes>"
      ]
     },
     "metadata": {},
     "output_type": "display_data"
    }
   ],
   "source": [
    "eventos_limpio[\"fecha_hora_evento_dt\"].hist()\n",
    "plt.xticks(rotation=45)\n",
    "plt.show()"
   ]
  },
  {
   "cell_type": "markdown",
   "id": "b6c46352-e2c5-417b-a09a-e8bb08cc4428",
   "metadata": {},
   "source": [
    "•\t¿Perdiste muchos eventos y usuarios al excluir los datos más antiguos?"
   ]
  },
  {
   "cell_type": "code",
   "execution_count": 34,
   "id": "9d1ebf33-6d31-46db-8cb8-c92bfa278f27",
   "metadata": {},
   "outputs": [
    {
     "data": {
      "text/plain": [
       "6304868067479728361    2307\n",
       "197027893265565660     1996\n",
       "4623191541214045580    1768\n",
       "6932517045703054087    1439\n",
       "1754140665440434215    1221\n",
       "                       ... \n",
       "5871870603459111234       1\n",
       "1168091901476811199       1\n",
       "2086627244641656064       1\n",
       "7982248574455189469       1\n",
       "404128138074395619        1\n",
       "Name: id_usuario, Length: 7534, dtype: int64"
      ]
     },
     "execution_count": 34,
     "metadata": {},
     "output_type": "execute_result"
    }
   ],
   "source": [
    "eventos_limpio[\"id_usuario\"].value_counts()"
   ]
  },
  {
   "cell_type": "code",
   "execution_count": 35,
   "id": "d5387e6c-36e1-41ad-a9c2-e6d7b93aa074",
   "metadata": {},
   "outputs": [
    {
     "data": {
      "text/plain": [
       "MainScreenAppear           117328\n",
       "OffersScreenAppear          46333\n",
       "CartScreenAppear            42303\n",
       "PaymentScreenSuccessful     33918\n",
       "Tutorial                     1005\n",
       "Name: nombre_evento, dtype: int64"
      ]
     },
     "execution_count": 35,
     "metadata": {},
     "output_type": "execute_result"
    }
   ],
   "source": [
    "eventos_limpio[\"nombre_evento\"].value_counts()"
   ]
  },
  {
   "cell_type": "code",
   "execution_count": 36,
   "id": "cf6355ce-4b2c-4508-a08d-4607747c987d",
   "metadata": {},
   "outputs": [
    {
     "data": {
      "text/plain": [
       "5"
      ]
     },
     "execution_count": 36,
     "metadata": {},
     "output_type": "execute_result"
    }
   ],
   "source": [
    "eventos_limpio[\"nombre_evento\"].nunique()"
   ]
  },
  {
   "cell_type": "code",
   "execution_count": 37,
   "id": "1159af86-48ae-4f4b-9925-092be75798a4",
   "metadata": {},
   "outputs": [
    {
     "name": "stdout",
     "output_type": "stream",
     "text": [
      "<class 'pandas.core.frame.DataFrame'>\n",
      "Int64Index: 240887 entries, 2828 to 244125\n",
      "Data columns (total 6 columns):\n",
      " #   Column                Non-Null Count   Dtype         \n",
      "---  ------                --------------   -----         \n",
      " 0   nombre_evento         240887 non-null  object        \n",
      " 1   id_usuario            240887 non-null  int64         \n",
      " 2   evento_timestamp      240887 non-null  int64         \n",
      " 3   grupo_de_control      240887 non-null  int64         \n",
      " 4   fecha_hora_evento_dt  240887 non-null  datetime64[ns]\n",
      " 5   fecha_dt              240887 non-null  datetime64[ns]\n",
      "dtypes: datetime64[ns](2), int64(3), object(1)\n",
      "memory usage: 12.9+ MB\n"
     ]
    }
   ],
   "source": [
    "eventos_limpio.info()"
   ]
  },
  {
   "cell_type": "markdown",
   "id": "cda4a638-c955-487c-aa1b-0f1b7e98d0d0",
   "metadata": {},
   "source": [
    "* Pasamos de 7551 usuarios unicos en los datos iniciales a 7534. Es decir que solo perdimos información de 17 id de usuarios. Eso es alrededor del 0.02% del total original de usuarios únicos.\n",
    "* Con respecto a los eventos seguimos teniendo 5 eventos únicos.\n",
    "* En cuanto al total de datos pasamos de 243.713 a 240.887, osea 2.826 datos se perdieron eso es un 1.16% apróximadamente de datos en comparación con los datos iniciales. Es decir que por cada 10 datos iniciales que se tenian, se perdió uno."
   ]
  },
  {
   "cell_type": "markdown",
   "id": "d83c16b3-d072-43c6-b06c-34c7f2e1e991",
   "metadata": {},
   "source": [
    "•\tAsegúrate de tener usuarios y usuarias de los tres grupos experimentales."
   ]
  },
  {
   "cell_type": "code",
   "execution_count": 38,
   "id": "940f088a-3f5a-44eb-a2de-ec8207db36e7",
   "metadata": {},
   "outputs": [
    {
     "data": {
      "image/png": "[encoded data removed]",
      "text/plain": [
       "<Figure size 640x480 with 1 Axes>"
      ]
     },
     "metadata": {},
     "output_type": "display_data"
    }
   ],
   "source": [
    "eventos_limpio[\"grupo_de_control\"].hist()\n",
    "plt.xticks(range(246,249,1))\n",
    "plt.show()"
   ]
  },
  {
   "cell_type": "code",
   "execution_count": 39,
   "id": "90e7a519-9d26-4e79-8e8f-22137ef85753",
   "metadata": {},
   "outputs": [
    {
     "data": {
      "text/plain": [
       "grupo_de_control\n",
       "246    79302\n",
       "247    77022\n",
       "248    84563\n",
       "Name: id_usuario, dtype: int64"
      ]
     },
     "execution_count": 39,
     "metadata": {},
     "output_type": "execute_result"
    }
   ],
   "source": [
    "eventos_limpio.groupby(\"grupo_de_control\")[\"id_usuario\"].count()"
   ]
  },
  {
   "cell_type": "markdown",
   "id": "9a77e351-e05f-420e-8aba-f07d65fb3eb1",
   "metadata": {},
   "source": [
    "* Comprobamos los grupos de control por usuarios únicos."
   ]
  },
  {
   "cell_type": "code",
   "execution_count": 40,
   "id": "0b28dc63-9060-4383-90db-90b921285f66",
   "metadata": {},
   "outputs": [
    {
     "data": {
      "text/plain": [
       "grupo_de_control\n",
       "246    2484\n",
       "247    2513\n",
       "248    2537\n",
       "Name: id_usuario, dtype: int64"
      ]
     },
     "execution_count": 40,
     "metadata": {},
     "output_type": "execute_result"
    }
   ],
   "source": [
    "eventos_limpio.groupby(\"grupo_de_control\")[\"id_usuario\"].nunique()"
   ]
  },
  {
   "cell_type": "code",
   "execution_count": 41,
   "id": "34ccbc27-006f-42bb-835a-35281820ba40",
   "metadata": {},
   "outputs": [
    {
     "data": {
      "text/plain": [
       "<AxesSubplot:xlabel='grupo_de_control'>"
      ]
     },
     "execution_count": 41,
     "metadata": {},
     "output_type": "execute_result"
    },
    {
     "data": {
      "image/png": "[encoded data removed]",
      "text/plain": [
       "<Figure size 640x480 with 1 Axes>"
      ]
     },
     "metadata": {},
     "output_type": "display_data"
    }
   ],
   "source": [
    "eventos_limpio.groupby(\"grupo_de_control\")[\"id_usuario\"].nunique().plot(kind=\"bar\")"
   ]
  },
  {
   "cell_type": "markdown",
   "id": "1f47f0bb-e014-4351-bd7f-2da49f9d0511",
   "metadata": {},
   "source": [
    "## Estudiar el embudo de eventos"
   ]
  },
  {
   "cell_type": "markdown",
   "id": "f7695160-2c43-499b-9e2e-e4f25c79cddb",
   "metadata": {},
   "source": [
    "•\tObserva qué eventos hay en los registros y su frecuencia de suceso. Ordénalos por frecuencia."
   ]
  },
  {
   "cell_type": "code",
   "execution_count": 42,
   "id": "938ccb49-3ad5-4171-92d4-3f2222aa88fe",
   "metadata": {},
   "outputs": [
    {
     "data": {
      "text/plain": [
       "MainScreenAppear           117328\n",
       "OffersScreenAppear          46333\n",
       "CartScreenAppear            42303\n",
       "PaymentScreenSuccessful     33918\n",
       "Tutorial                     1005\n",
       "Name: nombre_evento, dtype: int64"
      ]
     },
     "execution_count": 42,
     "metadata": {},
     "output_type": "execute_result"
    }
   ],
   "source": [
    "eventos_limpio[\"nombre_evento\"].value_counts()"
   ]
  },
  {
   "cell_type": "code",
   "execution_count": 43,
   "id": "88c5f870-55c4-4026-a553-5559e3df90ec",
   "metadata": {},
   "outputs": [
    {
     "data": {
      "text/plain": [
       "<AxesSubplot:>"
      ]
     },
     "execution_count": 43,
     "metadata": {},
     "output_type": "execute_result"
    },
    {
     "data": {
      "image/png": "[encoded data removed]",
      "text/plain": [
       "<Figure size 640x480 with 1 Axes>"
      ]
     },
     "metadata": {},
     "output_type": "display_data"
    }
   ],
   "source": [
    "eventos_limpio[\"nombre_evento\"].value_counts().plot(kind= \"bar\")"
   ]
  },
  {
   "cell_type": "markdown",
   "id": "0c424dd1-fe0e-49b1-8833-fb949ccab616",
   "metadata": {},
   "source": [
    "Encuentra la cantidad de usuarios y usuarias que realizaron cada una de estas acciones. Ordena los eventos por el número de usuarios y usuarias."
   ]
  },
  {
   "cell_type": "code",
   "execution_count": 44,
   "id": "c6f364d5-5b0c-4e0d-8fff-f704eb702ca2",
   "metadata": {},
   "outputs": [],
   "source": [
    "eventos_por_usuario = eventos_limpio.groupby(\"nombre_evento\",as_index=False)[\"id_usuario\"].nunique()"
   ]
  },
  {
   "cell_type": "code",
   "execution_count": 45,
   "id": "57e50833-6ad9-4657-8545-4e70721fca01",
   "metadata": {},
   "outputs": [],
   "source": [
    "eventos_por_usuario.columns=[\"nombre_evento\",\"numero_usuarios\"]"
   ]
  },
  {
   "cell_type": "code",
   "execution_count": 46,
   "id": "04e3aa53-7a1f-46b9-ade5-e07ec5050142",
   "metadata": {},
   "outputs": [],
   "source": [
    "eventos_por_usuario = eventos_por_usuario.sort_values(by=\"numero_usuarios\", ascending=False)"
   ]
  },
  {
   "cell_type": "markdown",
   "id": "5cb8edac-7b2b-4d00-aae7-55faf6ea6b9c",
   "metadata": {},
   "source": [
    "Calcula la proporción de usuarios y usuarias que realizaron la acción al menos una vez."
   ]
  },
  {
   "cell_type": "code",
   "execution_count": 47,
   "id": "6e33fdc0-9ab5-4e26-a206-d836cc5949eb",
   "metadata": {},
   "outputs": [],
   "source": [
    "eventos_por_usuario[\"proporcion_usuarios_totales\"] = eventos_por_usuario[\"numero_usuarios\"]/eventos_limpio[\"id_usuario\"].nunique()"
   ]
  },
  {
   "cell_type": "code",
   "execution_count": 48,
   "id": "2d7f198e-5c69-4f45-a320-531d9c6c5017",
   "metadata": {},
   "outputs": [
    {
     "data": {
      "text/html": [
       "<div>\n",
       "<style scoped>\n",
       "    .dataframe tbody tr th:only-of-type {\n",
       "        vertical-align: middle;\n",
       "    }\n",
       "\n",
       "    .dataframe tbody tr th {\n",
       "        vertical-align: top;\n",
       "    }\n",
       "\n",
       "    .dataframe thead th {\n",
       "        text-align: right;\n",
       "    }\n",
       "</style>\n",
       "<table border=\"1\" class=\"dataframe\">\n",
       "  <thead>\n",
       "    <tr style=\"text-align: right;\">\n",
       "      <th></th>\n",
       "      <th>nombre_evento</th>\n",
       "      <th>numero_usuarios</th>\n",
       "      <th>proporcion_usuarios_totales</th>\n",
       "    </tr>\n",
       "  </thead>\n",
       "  <tbody>\n",
       "    <tr>\n",
       "      <th>1</th>\n",
       "      <td>MainScreenAppear</td>\n",
       "      <td>7419</td>\n",
       "      <td>0.984736</td>\n",
       "    </tr>\n",
       "    <tr>\n",
       "      <th>2</th>\n",
       "      <td>OffersScreenAppear</td>\n",
       "      <td>4593</td>\n",
       "      <td>0.609636</td>\n",
       "    </tr>\n",
       "    <tr>\n",
       "      <th>0</th>\n",
       "      <td>CartScreenAppear</td>\n",
       "      <td>3734</td>\n",
       "      <td>0.495620</td>\n",
       "    </tr>\n",
       "    <tr>\n",
       "      <th>3</th>\n",
       "      <td>PaymentScreenSuccessful</td>\n",
       "      <td>3539</td>\n",
       "      <td>0.469737</td>\n",
       "    </tr>\n",
       "    <tr>\n",
       "      <th>4</th>\n",
       "      <td>Tutorial</td>\n",
       "      <td>840</td>\n",
       "      <td>0.111495</td>\n",
       "    </tr>\n",
       "  </tbody>\n",
       "</table>\n",
       "</div>"
      ],
      "text/plain": [
       "             nombre_evento  numero_usuarios  proporcion_usuarios_totales\n",
       "1         MainScreenAppear             7419                     0.984736\n",
       "2       OffersScreenAppear             4593                     0.609636\n",
       "0         CartScreenAppear             3734                     0.495620\n",
       "3  PaymentScreenSuccessful             3539                     0.469737\n",
       "4                 Tutorial              840                     0.111495"
      ]
     },
     "execution_count": 48,
     "metadata": {},
     "output_type": "execute_result"
    }
   ],
   "source": [
    "eventos_por_usuario"
   ]
  },
  {
   "cell_type": "markdown",
   "id": "64c7a1c8-30fc-4804-ad87-82b9c35bbcfa",
   "metadata": {},
   "source": [
    "•\t¿En qué orden crees que ocurrieron las acciones? ¿Todas son parte de una sola secuencia? No es necesario tenerlas en cuenta al calcular el embudo."
   ]
  },
  {
   "cell_type": "markdown",
   "id": "76fe2ecc-cdb1-4660-873f-2dda45a93946",
   "metadata": {},
   "source": [
    "De acuerdo con el análisis de los 5 eventos que tenemos se establece el siguiente orden para los mismos:\n",
    "* MainScreenAppear  - Aparece Pantalla Principal\n",
    "* OffersScreenAppear - Aparecen Ofertas en la Pantalla   \n",
    "* CartScreenAppear  - Aparecer el Carro en la Pantalla         \n",
    "* PaymentScreenSuccessful - Pago en Pantalla Exitoso\n",
    "\n",
    "Pero se intuye que el evento \"Tutorial\", no hace parte de la misma secuencia.\n",
    "* Tutorial  - Tutoría      "
   ]
  },
  {
   "cell_type": "markdown",
   "id": "45b52060-55c0-420a-ab07-fef0f085116b",
   "metadata": {},
   "source": [
    "•\tUtiliza el embudo de eventos para encontrar la proporción de usuarios y usuarias que pasan de una etapa a la siguiente. (Por ejemplo, para la secuencia de eventos A → B → C, calcula la proporción de usuarios en la etapa B a la cantidad de usuarios en la etapa A y la proporción de usuarios en la etapa C a la cantidad en la etapa B)."
   ]
  },
  {
   "cell_type": "markdown",
   "id": "64a92afb-b6fc-4d7b-8862-20123f315d11",
   "metadata": {},
   "source": [
    "* Primero filtramos cada evento con el id de usuario."
   ]
  },
  {
   "cell_type": "code",
   "execution_count": 49,
   "id": "106d8e11-60d5-4183-902b-bbd2db853fa3",
   "metadata": {},
   "outputs": [],
   "source": [
    "pantalla_ppal = pd.DataFrame(eventos_limpio[eventos_limpio[\"nombre_evento\"]==\"MainScreenAppear\"][\"id_usuario\"])\n",
    "oferta = eventos_limpio[eventos_limpio[\"nombre_evento\"]==\"OffersScreenAppear\"][\"id_usuario\"]\n",
    "carrito_compras = eventos_limpio[eventos_limpio[\"nombre_evento\"]==\"CartScreenAppear\"][\"id_usuario\"]\n",
    "pago = eventos_limpio[eventos_limpio[\"nombre_evento\"]==\"PaymentScreenSuccessful\"][\"id_usuario\"]"
   ]
  },
  {
   "cell_type": "markdown",
   "id": "842b160c-a631-46df-955d-b55840bf6246",
   "metadata": {},
   "source": [
    "* Con los data frame de cada evento con sus numeros de usuario, vamos a filtrar los usuarios que pasan de un evento al otro."
   ]
  },
  {
   "cell_type": "code",
   "execution_count": 50,
   "id": "c6a4f1be-014b-4815-812f-48e72ff3c2b9",
   "metadata": {},
   "outputs": [],
   "source": [
    "evento1 = pantalla_ppal[\"id_usuario\"].nunique()"
   ]
  },
  {
   "cell_type": "code",
   "execution_count": 51,
   "id": "dee8544f-a8f3-495d-86dd-542c9e7d7653",
   "metadata": {},
   "outputs": [],
   "source": [
    "evento1a2 = pantalla_ppal[pantalla_ppal[\"id_usuario\"].isin(oferta)].nunique()"
   ]
  },
  {
   "cell_type": "code",
   "execution_count": 52,
   "id": "20a2dcf3-3226-4e59-b27d-4699ae3496ec",
   "metadata": {},
   "outputs": [],
   "source": [
    "evento2a3 = pantalla_ppal[pantalla_ppal[\"id_usuario\"].isin(carrito_compras)].nunique()"
   ]
  },
  {
   "cell_type": "code",
   "execution_count": 53,
   "id": "eb01c7ef-9fcc-452b-bdd5-9ad8247a8bd0",
   "metadata": {},
   "outputs": [],
   "source": [
    "evento3a4 = pantalla_ppal[pantalla_ppal[\"id_usuario\"].isin(pago)].nunique()"
   ]
  },
  {
   "cell_type": "code",
   "execution_count": 54,
   "id": "05f6c55b-eb39-43ff-b4fe-319b25b4de4e",
   "metadata": {},
   "outputs": [
    {
     "data": {
      "text/plain": [
       "7419"
      ]
     },
     "execution_count": 54,
     "metadata": {},
     "output_type": "execute_result"
    }
   ],
   "source": [
    "evento1"
   ]
  },
  {
   "cell_type": "code",
   "execution_count": 55,
   "id": "aa5d63e9-d071-4806-addf-17019aab35b0",
   "metadata": {},
   "outputs": [
    {
     "data": {
      "text/plain": [
       "id_usuario    4482\n",
       "dtype: int64"
      ]
     },
     "execution_count": 55,
     "metadata": {},
     "output_type": "execute_result"
    }
   ],
   "source": [
    "evento1a2"
   ]
  },
  {
   "cell_type": "code",
   "execution_count": 56,
   "id": "9e43c4a7-01f1-4b4b-b63b-43cf9471bb11",
   "metadata": {},
   "outputs": [
    {
     "data": {
      "text/plain": [
       "id_usuario    3635\n",
       "dtype: int64"
      ]
     },
     "execution_count": 56,
     "metadata": {},
     "output_type": "execute_result"
    }
   ],
   "source": [
    "evento2a3"
   ]
  },
  {
   "cell_type": "code",
   "execution_count": 57,
   "id": "e12b39a2-ecae-4a2b-9a06-fab507e704c7",
   "metadata": {},
   "outputs": [
    {
     "data": {
      "text/plain": [
       "id_usuario    3441\n",
       "dtype: int64"
      ]
     },
     "execution_count": 57,
     "metadata": {},
     "output_type": "execute_result"
    }
   ],
   "source": [
    "evento3a4"
   ]
  },
  {
   "cell_type": "markdown",
   "id": "c3aaa53a-1937-4fe5-b78b-4f901295894e",
   "metadata": {},
   "source": [
    "* Calculamos el porcentaje de usuarios que pasan de una etapa a otra."
   ]
  },
  {
   "cell_type": "code",
   "execution_count": 58,
   "id": "67d39e71-3677-4572-a3bd-c71468b37237",
   "metadata": {},
   "outputs": [
    {
     "data": {
      "text/plain": [
       "id_usuario    60.41\n",
       "dtype: float64"
      ]
     },
     "execution_count": 58,
     "metadata": {},
     "output_type": "execute_result"
    }
   ],
   "source": [
    "# Porcentaje de usuarios que pasan de la pantalla principal a la oferta:\n",
    "round((evento1a2/evento1)*100,2)"
   ]
  },
  {
   "cell_type": "code",
   "execution_count": 59,
   "id": "eb3bf5af-11f6-4ec9-9d63-85fc9f565214",
   "metadata": {},
   "outputs": [
    {
     "data": {
      "text/plain": [
       "id_usuario    81.1\n",
       "dtype: float64"
      ]
     },
     "execution_count": 59,
     "metadata": {},
     "output_type": "execute_result"
    }
   ],
   "source": [
    "# Porcentaje de usuarios que pasan de la oferta al carrito de compras:\n",
    "round((evento2a3/evento1a2)*100,2)"
   ]
  },
  {
   "cell_type": "code",
   "execution_count": 60,
   "id": "674fa41a-8192-459a-9072-37e0692c556a",
   "metadata": {},
   "outputs": [
    {
     "data": {
      "text/plain": [
       "id_usuario    94.66\n",
       "dtype: float64"
      ]
     },
     "execution_count": 60,
     "metadata": {},
     "output_type": "execute_result"
    }
   ],
   "source": [
    "# Porcentaje de usuarios que pasan del carrito de compras al pago:\n",
    "round((evento3a4/evento2a3)*100,2)"
   ]
  },
  {
   "cell_type": "markdown",
   "id": "6e555f79-c71a-4315-ad7e-875134a93e22",
   "metadata": {},
   "source": [
    "•\t¿En qué etapa pierdes más usuarios y usuarias?"
   ]
  },
  {
   "cell_type": "markdown",
   "id": "f2c8ceb9-9a39-4cc0-81f5-fadce8642cc4",
   "metadata": {},
   "source": [
    "Se pierden mas usuarios en la etapa de la pantalla principal a la oferta, ya que 7419 usuarios que ven la pantalla principal, solo 4.482 pasan a la oferta, eso equivale al 60.41% ."
   ]
  },
  {
   "cell_type": "markdown",
   "id": "becd3893-fb9d-4752-b828-28905fcb27f9",
   "metadata": {},
   "source": [
    "•\t¿Qué porcentaje de usuarios y usuarias hace todo el viaje desde su primer evento hasta el pago?"
   ]
  },
  {
   "cell_type": "code",
   "execution_count": 61,
   "id": "1eef491a-4655-4e12-8615-b3825e2119c2",
   "metadata": {},
   "outputs": [
    {
     "data": {
      "text/plain": [
       "7419"
      ]
     },
     "execution_count": 61,
     "metadata": {},
     "output_type": "execute_result"
    }
   ],
   "source": [
    "evento1"
   ]
  },
  {
   "cell_type": "code",
   "execution_count": 62,
   "id": "a286ee0d-4121-4deb-806e-c71545c2d358",
   "metadata": {},
   "outputs": [
    {
     "data": {
      "text/plain": [
       "id_usuario    3441\n",
       "dtype: int64"
      ]
     },
     "execution_count": 62,
     "metadata": {},
     "output_type": "execute_result"
    }
   ],
   "source": [
    "evento3a4"
   ]
  },
  {
   "cell_type": "code",
   "execution_count": 63,
   "id": "7b915cd8-9978-4386-9258-a0bc9fad6060",
   "metadata": {},
   "outputs": [],
   "source": [
    "pantalla_ppal_a_pago = evento3a4/evento1"
   ]
  },
  {
   "cell_type": "code",
   "execution_count": 64,
   "id": "d5d6411d-a66e-4041-832f-7e3fe10e7465",
   "metadata": {},
   "outputs": [
    {
     "data": {
      "text/plain": [
       "id_usuario    46.38\n",
       "dtype: float64"
      ]
     },
     "execution_count": 64,
     "metadata": {},
     "output_type": "execute_result"
    }
   ],
   "source": [
    "round((pantalla_ppal_a_pago*100),2)"
   ]
  },
  {
   "cell_type": "markdown",
   "id": "244abfa0-7e04-4633-9031-ca37d88166e2",
   "metadata": {},
   "source": [
    "Del total de 7.419 usuarios que ingresan a la pantalla principal 3.441 llegan a la etapa de pago , eso equivale al 46.38%"
   ]
  },
  {
   "cell_type": "markdown",
   "id": "1922224b-a24d-46ce-b07b-eea7b8356ef4",
   "metadata": {},
   "source": [
    "## Estudiar los resultados del experimento"
   ]
  },
  {
   "cell_type": "markdown",
   "id": "16d6afdc-b771-4ce5-8f20-bf6b34b23464",
   "metadata": {},
   "source": [
    "•\t¿Cuántos usuarios y usuarias hay en cada grupo?"
   ]
  },
  {
   "cell_type": "code",
   "execution_count": 65,
   "id": "c096d778-0b8e-4381-9398-dd3d457249d7",
   "metadata": {},
   "outputs": [
    {
     "data": {
      "text/plain": [
       "grupo_de_control\n",
       "246    2484\n",
       "247    2513\n",
       "248    2537\n",
       "Name: id_usuario, dtype: int64"
      ]
     },
     "execution_count": 65,
     "metadata": {},
     "output_type": "execute_result"
    }
   ],
   "source": [
    "eventos_limpio.groupby(\"grupo_de_control\")[\"id_usuario\"].nunique()"
   ]
  },
  {
   "cell_type": "markdown",
   "id": "0caab43d-4ca7-4c67-ba9b-dabbffee240f",
   "metadata": {},
   "source": [
    "•\tTenemos dos grupos de control en el test A/A, donde comprobamos nuestros mecanismos y cálculos. Observa si hay una diferencia estadísticamente significativa entre las muestras 246 y 247."
   ]
  },
  {
   "cell_type": "markdown",
   "id": "d3002a2e-6f1d-408d-a214-07247d4b79d3",
   "metadata": {},
   "source": [
    "•\tnúmero de experimento: 246 y 247 son los grupos de control, 248 es el grupo de prueba."
   ]
  },
  {
   "cell_type": "code",
   "execution_count": 66,
   "id": "8d2d9c74-e900-4339-bc08-8ef80fcabdc7",
   "metadata": {},
   "outputs": [],
   "source": [
    "grupo246 = eventos_limpio[eventos_limpio[\"grupo_de_control\"]==246][\"id_usuario\"].value_counts()\n",
    "grupo247 = eventos_limpio[eventos_limpio[\"grupo_de_control\"]==247][\"id_usuario\"].value_counts()"
   ]
  },
  {
   "cell_type": "code",
   "execution_count": 67,
   "id": "01b1880b-f3d2-49a8-8102-93100ba7bf50",
   "metadata": {},
   "outputs": [],
   "source": [
    "dif_estad_muestras = (stats.mannwhitneyu(grupo246,grupo247)[1])"
   ]
  },
  {
   "cell_type": "code",
   "execution_count": 68,
   "id": "7c0308dc-69bb-4de1-b02e-110475f1248a",
   "metadata": {},
   "outputs": [
    {
     "name": "stdout",
     "output_type": "stream",
     "text": [
      "p_valor: 0.8721841921024993 Aceptamos la hipótesis nula, no hay una diferencia estadistícamente significativa entre las muestras 246 y 247\n"
     ]
    }
   ],
   "source": [
    "if dif_estad_muestras >= 0.05:\n",
    "    print(\"p_valor:\", dif_estad_muestras, \"Aceptamos la hipótesis nula, no hay una diferencia estadistícamente significativa entre las muestras 246 y 247\"),\n",
    "else:\n",
    "    print(\"p_valor:\", dif_estad_muestras, \"No podemos aceptar la hipótesis nula, hay una diferencia estadistícamente significativa entre las muestras 246 y 247\")"
   ]
  },
  {
   "cell_type": "markdown",
   "id": "eafbafc4-f6ba-4314-a511-25b98ac2b4b5",
   "metadata": {},
   "source": [
    "•\tSelecciona el evento más popular. En cada uno de los grupos de control, encuentra la cantidad de usuarios y usuarias que realizaron esta acción. Encuentra su proporción. Comprueba si la diferencia entre los grupos es estadísticamente significativa. Repite el procedimiento para todos los demás eventos (ahorrarás tiempo si creas una función especial para esta prueba). ¿Puedes confirmar que los grupos se dividieron correctamente?"
   ]
  },
  {
   "cell_type": "code",
   "execution_count": 69,
   "id": "d0900333-4bab-468c-ae7f-da5b9c31fead",
   "metadata": {},
   "outputs": [],
   "source": [
    "eventos_246 = eventos_limpio[eventos_limpio[\"grupo_de_control\"]==246]\n",
    "eventos_247 = eventos_limpio[eventos_limpio[\"grupo_de_control\"]==247]"
   ]
  },
  {
   "cell_type": "code",
   "execution_count": 70,
   "id": "f3645565-3658-4479-adb1-6e6ce493d334",
   "metadata": {},
   "outputs": [],
   "source": [
    "eventos_246_agrupado = eventos_246.groupby(\"nombre_evento\", as_index= False)[\"id_usuario\"].nunique()"
   ]
  },
  {
   "cell_type": "code",
   "execution_count": 71,
   "id": "d5cc1bcf-8840-40c1-b34c-21248aa433cd",
   "metadata": {},
   "outputs": [
    {
     "data": {
      "text/html": [
       "<div>\n",
       "<style scoped>\n",
       "    .dataframe tbody tr th:only-of-type {\n",
       "        vertical-align: middle;\n",
       "    }\n",
       "\n",
       "    .dataframe tbody tr th {\n",
       "        vertical-align: top;\n",
       "    }\n",
       "\n",
       "    .dataframe thead th {\n",
       "        text-align: right;\n",
       "    }\n",
       "</style>\n",
       "<table border=\"1\" class=\"dataframe\">\n",
       "  <thead>\n",
       "    <tr style=\"text-align: right;\">\n",
       "      <th></th>\n",
       "      <th>nombre_evento</th>\n",
       "      <th>id_usuario</th>\n",
       "    </tr>\n",
       "  </thead>\n",
       "  <tbody>\n",
       "    <tr>\n",
       "      <th>0</th>\n",
       "      <td>CartScreenAppear</td>\n",
       "      <td>1266</td>\n",
       "    </tr>\n",
       "    <tr>\n",
       "      <th>1</th>\n",
       "      <td>MainScreenAppear</td>\n",
       "      <td>2450</td>\n",
       "    </tr>\n",
       "    <tr>\n",
       "      <th>2</th>\n",
       "      <td>OffersScreenAppear</td>\n",
       "      <td>1542</td>\n",
       "    </tr>\n",
       "    <tr>\n",
       "      <th>3</th>\n",
       "      <td>PaymentScreenSuccessful</td>\n",
       "      <td>1200</td>\n",
       "    </tr>\n",
       "    <tr>\n",
       "      <th>4</th>\n",
       "      <td>Tutorial</td>\n",
       "      <td>278</td>\n",
       "    </tr>\n",
       "  </tbody>\n",
       "</table>\n",
       "</div>"
      ],
      "text/plain": [
       "             nombre_evento  id_usuario\n",
       "0         CartScreenAppear        1266\n",
       "1         MainScreenAppear        2450\n",
       "2       OffersScreenAppear        1542\n",
       "3  PaymentScreenSuccessful        1200\n",
       "4                 Tutorial         278"
      ]
     },
     "execution_count": 71,
     "metadata": {},
     "output_type": "execute_result"
    }
   ],
   "source": [
    "eventos_246_agrupado"
   ]
  },
  {
   "cell_type": "code",
   "execution_count": 72,
   "id": "51f9a3f3-7c25-4089-802a-b178f958897f",
   "metadata": {},
   "outputs": [],
   "source": [
    "eventos_247_agrupado = eventos_247.groupby(\"nombre_evento\", as_index= False)[\"id_usuario\"].nunique()"
   ]
  },
  {
   "cell_type": "code",
   "execution_count": 73,
   "id": "cc0dc8b5-aac2-45b2-82c5-97a93b04bb70",
   "metadata": {},
   "outputs": [
    {
     "data": {
      "text/html": [
       "<div>\n",
       "<style scoped>\n",
       "    .dataframe tbody tr th:only-of-type {\n",
       "        vertical-align: middle;\n",
       "    }\n",
       "\n",
       "    .dataframe tbody tr th {\n",
       "        vertical-align: top;\n",
       "    }\n",
       "\n",
       "    .dataframe thead th {\n",
       "        text-align: right;\n",
       "    }\n",
       "</style>\n",
       "<table border=\"1\" class=\"dataframe\">\n",
       "  <thead>\n",
       "    <tr style=\"text-align: right;\">\n",
       "      <th></th>\n",
       "      <th>nombre_evento</th>\n",
       "      <th>id_usuario</th>\n",
       "    </tr>\n",
       "  </thead>\n",
       "  <tbody>\n",
       "    <tr>\n",
       "      <th>0</th>\n",
       "      <td>CartScreenAppear</td>\n",
       "      <td>1238</td>\n",
       "    </tr>\n",
       "    <tr>\n",
       "      <th>1</th>\n",
       "      <td>MainScreenAppear</td>\n",
       "      <td>2476</td>\n",
       "    </tr>\n",
       "    <tr>\n",
       "      <th>2</th>\n",
       "      <td>OffersScreenAppear</td>\n",
       "      <td>1520</td>\n",
       "    </tr>\n",
       "    <tr>\n",
       "      <th>3</th>\n",
       "      <td>PaymentScreenSuccessful</td>\n",
       "      <td>1158</td>\n",
       "    </tr>\n",
       "    <tr>\n",
       "      <th>4</th>\n",
       "      <td>Tutorial</td>\n",
       "      <td>283</td>\n",
       "    </tr>\n",
       "  </tbody>\n",
       "</table>\n",
       "</div>"
      ],
      "text/plain": [
       "             nombre_evento  id_usuario\n",
       "0         CartScreenAppear        1238\n",
       "1         MainScreenAppear        2476\n",
       "2       OffersScreenAppear        1520\n",
       "3  PaymentScreenSuccessful        1158\n",
       "4                 Tutorial         283"
      ]
     },
     "execution_count": 73,
     "metadata": {},
     "output_type": "execute_result"
    }
   ],
   "source": [
    "eventos_247_agrupado"
   ]
  },
  {
   "cell_type": "code",
   "execution_count": 74,
   "id": "d129284c-e316-43a4-81a3-d5573d6375a8",
   "metadata": {},
   "outputs": [],
   "source": [
    "eventos_246_MainScreenAppear = eventos_limpio[(eventos_limpio[\"grupo_de_control\"]==246)&(eventos_limpio[\"nombre_evento\"]==\"MainScreenAppear\")][\"nombre_evento\"].count()"
   ]
  },
  {
   "cell_type": "markdown",
   "id": "065ef925-2ed2-4cc9-81b1-de0d6fbc9443",
   "metadata": {},
   "source": [
    "El evento mas popular en ambos grupos de control es \"MainScreenAppear\" , \"Aparece la pantalla principal\""
   ]
  },
  {
   "cell_type": "markdown",
   "id": "1e66886b-d959-4726-b46a-080ce996579b",
   "metadata": {},
   "source": [
    "### Evento \"MainScreenAppear\" , \"Aparece la pantalla principal\" en los grupos de control"
   ]
  },
  {
   "cell_type": "markdown",
   "id": "2ee193cb-9b97-406a-ad76-721a56bcd3ca",
   "metadata": {},
   "source": [
    "Agrupamos por grupo_de_control y nombre de evento para encontrar el número de usuarios que ejecutaron dicho evento."
   ]
  },
  {
   "cell_type": "code",
   "execution_count": 75,
   "id": "07ec7ba3-bdd6-42eb-81a7-63bf1e91e419",
   "metadata": {},
   "outputs": [],
   "source": [
    "eventos_246_MainScreenAppear = pd.DataFrame(eventos_limpio[(eventos_limpio[\"grupo_de_control\"]==246)&(eventos_limpio[\"nombre_evento\"]==\"MainScreenAppear\")][\"id_usuario\"].value_counts()).reset_index()\n",
    "eventos_246_MainScreenAppear.columns= [\"id_usuario\", \"n_usuarios\"]\n",
    "eventos_247_MainScreenAppear = pd.DataFrame(eventos_limpio[(eventos_limpio[\"grupo_de_control\"]==247)&(eventos_limpio[\"nombre_evento\"]==\"MainScreenAppear\")][\"id_usuario\"].value_counts()).reset_index()\n",
    "eventos_247_MainScreenAppear.columns= [\"id_usuario\", \"n_usuarios\"]"
   ]
  },
  {
   "cell_type": "code",
   "execution_count": 76,
   "id": "cb700e08-db3f-481f-a8cd-7095184cf3dd",
   "metadata": {},
   "outputs": [
    {
     "data": {
      "text/html": [
       "<div>\n",
       "<style scoped>\n",
       "    .dataframe tbody tr th:only-of-type {\n",
       "        vertical-align: middle;\n",
       "    }\n",
       "\n",
       "    .dataframe tbody tr th {\n",
       "        vertical-align: top;\n",
       "    }\n",
       "\n",
       "    .dataframe thead th {\n",
       "        text-align: right;\n",
       "    }\n",
       "</style>\n",
       "<table border=\"1\" class=\"dataframe\">\n",
       "  <thead>\n",
       "    <tr style=\"text-align: right;\">\n",
       "      <th></th>\n",
       "      <th>id_usuario</th>\n",
       "      <th>n_usuarios</th>\n",
       "    </tr>\n",
       "  </thead>\n",
       "  <tbody>\n",
       "    <tr>\n",
       "      <th>0</th>\n",
       "      <td>2614239180094538519</td>\n",
       "      <td>167</td>\n",
       "    </tr>\n",
       "    <tr>\n",
       "      <th>1</th>\n",
       "      <td>1232481244696430727</td>\n",
       "      <td>164</td>\n",
       "    </tr>\n",
       "  </tbody>\n",
       "</table>\n",
       "</div>"
      ],
      "text/plain": [
       "            id_usuario  n_usuarios\n",
       "0  2614239180094538519         167\n",
       "1  1232481244696430727         164"
      ]
     },
     "execution_count": 76,
     "metadata": {},
     "output_type": "execute_result"
    }
   ],
   "source": [
    "eventos_246_MainScreenAppear.head(2)"
   ]
  },
  {
   "cell_type": "code",
   "execution_count": 77,
   "id": "4d31d8af-dd83-4500-bb9f-8cf286eb33fd",
   "metadata": {},
   "outputs": [
    {
     "data": {
      "text/plain": [
       "' Hemos utilizado la función np.arange() para crear una lista de índices. Funciona como la función range() pero crea una matriz de índices en el formato np.array requerido por pd.Series. '"
      ]
     },
     "execution_count": 77,
     "metadata": {},
     "output_type": "execute_result"
    }
   ],
   "source": [
    "\"\"\" Declaramos las variables sample con los usuarios por grupo y evento. Los usuarios que no correspondan al grupo y evento analizado tendrán un 0. \"\"\"\n",
    "\n",
    "\"\"\" Ceros para los usuarios que no correspondan al grupo y evento. Su número es la diferencia entre el número total de usuarios de todo el grupo y el número de registros en cada grupo por usuario y evento:  \"\"\"\n",
    "\n",
    "\"\"\" Hemos utilizado la función np.arange() para crear una lista de índices. Funciona como la función range() pero crea una matriz de índices en el formato np.array requerido por pd.Series. \"\"\""
   ]
  },
  {
   "cell_type": "code",
   "execution_count": 78,
   "id": "21c4fe0a-0032-4afd-982b-56c887f31741",
   "metadata": {},
   "outputs": [],
   "source": [
    "sample_246_MainScreenAppear = pd.concat([eventos_246_MainScreenAppear['n_usuarios'],pd.Series(0, index=np.arange(eventos_limpio[eventos_limpio[\"grupo_de_control\"]==246]['id_usuario'].count() - len(eventos_246_MainScreenAppear['n_usuarios'])), name='eventos')], axis = 0)\n",
    "sample_247_MainScreenAppear = pd.concat([eventos_247_MainScreenAppear['n_usuarios'],pd.Series(0, index=np.arange(eventos_limpio[eventos_limpio[\"grupo_de_control\"]==247]['id_usuario'].count() - len(eventos_247_MainScreenAppear['n_usuarios'])), name='eventos')], axis = 0)"
   ]
  },
  {
   "cell_type": "code",
   "execution_count": 79,
   "id": "70b58b5d-9437-43ba-887f-cfe236b58d5a",
   "metadata": {},
   "outputs": [],
   "source": [
    "MainScreenAppear_grupos_control = (stats.mannwhitneyu(sample_246_MainScreenAppear,sample_247_MainScreenAppear)[1])"
   ]
  },
  {
   "cell_type": "code",
   "execution_count": 80,
   "id": "482acf82-1066-4580-831d-ad75a2a1ab96",
   "metadata": {},
   "outputs": [
    {
     "name": "stdout",
     "output_type": "stream",
     "text": [
      "p_valor: 0.1542734912519323 Aceptamos la hipótesis nula, no hay una diferencia estadistícamente significativa entre los grupos\n"
     ]
    }
   ],
   "source": [
    "if MainScreenAppear_grupos_control >= 0.05:\n",
    "    print(\"p_valor:\", MainScreenAppear_grupos_control, \"Aceptamos la hipótesis nula, no hay una diferencia estadistícamente significativa entre los grupos\"),\n",
    "else:\n",
    "    print(\"p_valor:\", MainScreenAppear_grupos_control, \"No podemos aceptar la hipótesis nula, hay una diferencia estadistícamente significativa entre los grupos\")"
   ]
  },
  {
   "cell_type": "markdown",
   "id": "1ceac34a-ca9d-4807-a55f-a30ad5289f9e",
   "metadata": {},
   "source": [
    "### Evento OffersScreenAppear, Aparecen Ofertas en la Pantalla en los grupos de control"
   ]
  },
  {
   "cell_type": "code",
   "execution_count": 81,
   "id": "6b9c87ab-1517-4837-a297-d4733a4d840f",
   "metadata": {},
   "outputs": [
    {
     "data": {
      "text/plain": [
       "' Hemos utilizado la función np.arange() para crear una lista de índices. Funciona como la función range() pero crea una matriz de índices en el formato np.array requerido por pd.Series. '"
      ]
     },
     "execution_count": 81,
     "metadata": {},
     "output_type": "execute_result"
    }
   ],
   "source": [
    "\"\"\" Creamos la función para agrupar por grupo_de_control y nombre de evento para encontrar el número de usuarios que ejecutaron dicho evento y para declarar las variables sample con los usuarios por grupo y evento. Los usuarios que no correspondan al grupo y evento analizado tendrán un 0. \"\"\"\n",
    "\n",
    "\"\"\" Ceros para los usuarios que no correspondan al grupo y evento. Su número es la diferencia entre el número total de usuarios de todo el grupo y el número de registros en cada grupo por usuario y evento:  \"\"\"\n",
    "\n",
    "\"\"\" Hemos utilizado la función np.arange() para crear una lista de índices. Funciona como la función range() pero crea una matriz de índices en el formato np.array requerido por pd.Series. \"\"\""
   ]
  },
  {
   "cell_type": "code",
   "execution_count": 82,
   "id": "859e2403-3f96-4ac4-b073-a29268d69bf2",
   "metadata": {},
   "outputs": [],
   "source": [
    "def sample_evento_grupo(df, colum_grupo_control,colum_evento,colum_id_usuario, grupo_control1, grupo_control2, nombre_evento):\n",
    "    filtro_evento1 = pd.DataFrame(df[(df[colum_grupo_control]==grupo_control1)&(df[colum_evento]==nombre_evento)][colum_id_usuario].value_counts()).reset_index()\n",
    "    concatenar_evento1 = pd.concat([filtro_evento1['id_usuario'],pd.Series(0, index=np.arange(df[df[colum_grupo_control]==grupo_control1][colum_id_usuario].count() - len(filtro_evento1['id_usuario'])))], axis = 0)\n",
    " \n",
    "\n",
    "    filtro_evento2 = pd.DataFrame(df[(df[colum_grupo_control]==grupo_control2)&(df[colum_evento]==nombre_evento)][colum_id_usuario].value_counts()).reset_index()\n",
    "    concatenar_evento2 = pd.concat([filtro_evento2['id_usuario'],pd.Series(0, index=np.arange(df[df[colum_grupo_control]==grupo_control2][colum_id_usuario].count() - len(filtro_evento2['id_usuario'])))], axis = 0)\n",
    "    \n",
    "    Mannwhitneyu_grupos_control = (stats.mannwhitneyu(concatenar_evento1,concatenar_evento2)[1])\n",
    "    \n",
    "    if Mannwhitneyu_grupos_control >= 0.05:\n",
    "        print(\"p_valor:\", Mannwhitneyu_grupos_control, \"Aceptamos la hipótesis nula, no hay una diferencia estadistícamente significativa entre los grupos\"),\n",
    "    else:\n",
    "        print(\"p_valor:\", Mannwhitneyu_grupos_control, \"No podemos aceptar la hipótesis nula, hay una diferencia estadistícamente significativa entre los grupos\")"
   ]
  },
  {
   "cell_type": "code",
   "execution_count": 83,
   "id": "dafd2597-3c07-4c8b-bdb6-b7ff7dc3afde",
   "metadata": {},
   "outputs": [
    {
     "name": "stdout",
     "output_type": "stream",
     "text": [
      "p_valor: 0.6808277824585237 Aceptamos la hipótesis nula, no hay una diferencia estadistícamente significativa entre los grupos\n"
     ]
    }
   ],
   "source": [
    "sample_evento_grupo (eventos_limpio,\"grupo_de_control\",\"nombre_evento\",\"id_usuario\", 246, 247,\"OffersScreenAppear\")"
   ]
  },
  {
   "cell_type": "markdown",
   "id": "2ff55b43-4914-4f31-9a9c-67de0c84130c",
   "metadata": {},
   "source": [
    "### Evento CartScreenAppear  - Aparece el Carro en la Pantalla en los grupos de control"
   ]
  },
  {
   "cell_type": "code",
   "execution_count": 84,
   "id": "9839caf6-d1a1-4824-bfba-e752555b7269",
   "metadata": {},
   "outputs": [
    {
     "name": "stdout",
     "output_type": "stream",
     "text": [
      "p_valor: 0.8690917322772936 Aceptamos la hipótesis nula, no hay una diferencia estadistícamente significativa entre los grupos\n"
     ]
    }
   ],
   "source": [
    "sample_evento_grupo (eventos_limpio,\"grupo_de_control\",\"nombre_evento\",\"id_usuario\", 246, 247,\"CartScreenAppear\")"
   ]
  },
  {
   "cell_type": "markdown",
   "id": "096a8c5b-460e-424b-a63c-28196ea352a7",
   "metadata": {},
   "source": [
    "### Evento PaymentScreenSuccessful - Pago en Pantalla Exitoso en los grupos de control"
   ]
  },
  {
   "cell_type": "code",
   "execution_count": 85,
   "id": "8976f609-391e-41a5-bca6-83ab11b2a879",
   "metadata": {},
   "outputs": [
    {
     "name": "stdout",
     "output_type": "stream",
     "text": [
      "p_valor: 0.86883840695884 Aceptamos la hipótesis nula, no hay una diferencia estadistícamente significativa entre los grupos\n"
     ]
    }
   ],
   "source": [
    "sample_evento_grupo (eventos_limpio,\"grupo_de_control\",\"nombre_evento\",\"id_usuario\", 246, 247,\"PaymentScreenSuccessful\")"
   ]
  },
  {
   "cell_type": "markdown",
   "id": "8b7b37d7-c967-4fc3-a982-2b9862d83d29",
   "metadata": {},
   "source": [
    "### Evento Tutorial  - Tutoría en los grupos de control"
   ]
  },
  {
   "cell_type": "code",
   "execution_count": 86,
   "id": "1eae9933-9897-45df-9cca-8ecac3efed8b",
   "metadata": {},
   "outputs": [
    {
     "name": "stdout",
     "output_type": "stream",
     "text": [
      "p_valor: 0.5766507488628729 Aceptamos la hipótesis nula, no hay una diferencia estadistícamente significativa entre los grupos\n"
     ]
    }
   ],
   "source": [
    "sample_evento_grupo (eventos_limpio,\"grupo_de_control\",\"nombre_evento\",\"id_usuario\", 246, 247,\"Tutorial\")"
   ]
  },
  {
   "cell_type": "markdown",
   "id": "f1f4fa7e-9105-4e70-b361-cb642aca5eb5",
   "metadata": {},
   "source": [
    "Después de comparar los 5 eventos en los dos grupos de control 246 y 247, se evidencia que no hay una diferencia estdística significativa entre los 2 grupos para ninguno de los eventos. Adicionalmente como tampoco hay una diferencia estadística entre las muestras podemos concluir que los los grupos 246 y 247 se dividieron correctamente."
   ]
  },
  {
   "cell_type": "markdown",
   "id": "b3415940-f384-4dbf-8190-c606e5351559",
   "metadata": {},
   "source": [
    "* Haz lo mismo para el grupo con fuentes alteradas. Compara los resultados con los de cada uno de los grupos de control para cada evento de forma aislada. "
   ]
  },
  {
   "cell_type": "markdown",
   "id": "9a53a4a4-68c2-4fec-9f92-2d3a18f9e996",
   "metadata": {},
   "source": [
    "### Evento \"MainScreenAppear\" , \"Aparece la pantalla principal\" en el grupo de control 246 y grupo de fuentes alteradas 248"
   ]
  },
  {
   "cell_type": "code",
   "execution_count": 87,
   "id": "51fff008-d7dc-4239-9dff-f499bc725d3f",
   "metadata": {},
   "outputs": [
    {
     "name": "stdout",
     "output_type": "stream",
     "text": [
      "p_valor: 0.10055996604977109 Aceptamos la hipótesis nula, no hay una diferencia estadistícamente significativa entre los grupos\n"
     ]
    }
   ],
   "source": [
    "sample_evento_grupo (eventos_limpio,\"grupo_de_control\",\"nombre_evento\",\"id_usuario\", 246, 248,\"MainScreenAppear\")"
   ]
  },
  {
   "cell_type": "markdown",
   "id": "d04fce06-8d01-41ac-a7f4-7fde90960c30",
   "metadata": {},
   "source": [
    "### Evento OffersScreenAppear, Aparecen Ofertas en la Pantalla en el grupo de control 246 y grupo de fuentes alteradas 248"
   ]
  },
  {
   "cell_type": "code",
   "execution_count": 88,
   "id": "dfb1dbd9-112f-44eb-9304-9bfc7c8cb26c",
   "metadata": {},
   "outputs": [
    {
     "name": "stdout",
     "output_type": "stream",
     "text": [
      "p_valor: 0.04530730257629029 No podemos aceptar la hipótesis nula, hay una diferencia estadistícamente significativa entre los grupos\n"
     ]
    }
   ],
   "source": [
    "sample_evento_grupo (eventos_limpio,\"grupo_de_control\",\"nombre_evento\",\"id_usuario\", 246, 248,\"OffersScreenAppear\")"
   ]
  },
  {
   "cell_type": "markdown",
   "id": "381c91b4-b1a9-4e48-8dc6-7cf7da2a24ae",
   "metadata": {},
   "source": [
    "### Evento CartScreenAppear  - Aparece el Carro en la Pantalla en el grupo de control 246 y grupo de fuentes alteradas 248"
   ]
  },
  {
   "cell_type": "code",
   "execution_count": 89,
   "id": "afb29e9c-ae75-47ab-b762-268fbcd6aa0e",
   "metadata": {},
   "outputs": [
    {
     "name": "stdout",
     "output_type": "stream",
     "text": [
      "p_valor: 0.019867902741648288 No podemos aceptar la hipótesis nula, hay una diferencia estadistícamente significativa entre los grupos\n"
     ]
    }
   ],
   "source": [
    "sample_evento_grupo (eventos_limpio,\"grupo_de_control\",\"nombre_evento\",\"id_usuario\", 246, 248,\"CartScreenAppear\")"
   ]
  },
  {
   "cell_type": "markdown",
   "id": "671a7b0a-d9a0-4d5f-a21d-65acd9c16b57",
   "metadata": {},
   "source": [
    "### Evento PaymentScreenSuccessful - Pago en Pantalla Exitoso en el grupo de control 246 y grupo de fuentes alteradas 248"
   ]
  },
  {
   "cell_type": "code",
   "execution_count": 90,
   "id": "7879822b-5caa-4f6e-8c8f-38cb0574a426",
   "metadata": {},
   "outputs": [
    {
     "name": "stdout",
     "output_type": "stream",
     "text": [
      "p_valor: 0.04924356553929974 No podemos aceptar la hipótesis nula, hay una diferencia estadistícamente significativa entre los grupos\n"
     ]
    }
   ],
   "source": [
    "sample_evento_grupo (eventos_limpio,\"grupo_de_control\",\"nombre_evento\",\"id_usuario\", 246, 248,\"PaymentScreenSuccessful\")"
   ]
  },
  {
   "cell_type": "markdown",
   "id": "348ca142-3911-410f-ba87-2b5b4e483c80",
   "metadata": {},
   "source": [
    "### Evento Tutorial  - Tutoría en el grupo de control 246 y grupo de fuentes alteradas 248"
   ]
  },
  {
   "cell_type": "code",
   "execution_count": 91,
   "id": "dad01ba8-3ddc-49ec-bf96-7346ed8660ee",
   "metadata": {},
   "outputs": [
    {
     "name": "stdout",
     "output_type": "stream",
     "text": [
      "p_valor: 0.47427867797406054 Aceptamos la hipótesis nula, no hay una diferencia estadistícamente significativa entre los grupos\n"
     ]
    }
   ],
   "source": [
    "sample_evento_grupo (eventos_limpio,\"grupo_de_control\",\"nombre_evento\",\"id_usuario\", 246, 248,\"Tutorial\")"
   ]
  },
  {
   "cell_type": "markdown",
   "id": "ded33efe-25ba-4241-9f5e-5e06cc382497",
   "metadata": {},
   "source": [
    "### Evento \"MainScreenAppear\" , \"Aparece la pantalla principal\" en el grupo de control 247 y grupo de fuentes alteradas 248"
   ]
  },
  {
   "cell_type": "code",
   "execution_count": 92,
   "id": "4d9f2d45-050a-4a86-a7d1-9abcc2ee3cce",
   "metadata": {},
   "outputs": [
    {
     "name": "stdout",
     "output_type": "stream",
     "text": [
      "p_valor: 0.0020861193409148133 No podemos aceptar la hipótesis nula, hay una diferencia estadistícamente significativa entre los grupos\n"
     ]
    }
   ],
   "source": [
    "sample_evento_grupo (eventos_limpio,\"grupo_de_control\",\"nombre_evento\",\"id_usuario\", 247, 248,\"MainScreenAppear\")"
   ]
  },
  {
   "cell_type": "markdown",
   "id": "22972bdf-ffd2-4b6c-8857-553984f466d8",
   "metadata": {},
   "source": [
    "### Evento OffersScreenAppear, Aparecen Ofertas en la Pantalla en el grupo de control 247 y grupo de fuentes alteradas 248"
   ]
  },
  {
   "cell_type": "code",
   "execution_count": 93,
   "id": "0fbbd02d-dcc3-406c-9652-d7d5ee4e97d4",
   "metadata": {},
   "outputs": [
    {
     "name": "stdout",
     "output_type": "stream",
     "text": [
      "p_valor: 0.016150809227986965 No podemos aceptar la hipótesis nula, hay una diferencia estadistícamente significativa entre los grupos\n"
     ]
    }
   ],
   "source": [
    "sample_evento_grupo (eventos_limpio,\"grupo_de_control\",\"nombre_evento\",\"id_usuario\", 247, 248,\"OffersScreenAppear\")"
   ]
  },
  {
   "cell_type": "markdown",
   "id": "6f169cbd-5144-49f1-9719-f4523034ab6f",
   "metadata": {},
   "source": [
    "### Evento CartScreenAppear  - Aparece el Carro en la Pantalla en el grupo de control 247 y grupo de fuentes alteradas 248"
   ]
  },
  {
   "cell_type": "code",
   "execution_count": 94,
   "id": "fa390364-f316-459c-8d14-071438fc3641",
   "metadata": {},
   "outputs": [
    {
     "name": "stdout",
     "output_type": "stream",
     "text": [
      "p_valor: 0.013159500448092281 No podemos aceptar la hipótesis nula, hay una diferencia estadistícamente significativa entre los grupos\n"
     ]
    }
   ],
   "source": [
    "sample_evento_grupo (eventos_limpio,\"grupo_de_control\",\"nombre_evento\",\"id_usuario\", 247, 248,\"CartScreenAppear\")"
   ]
  },
  {
   "cell_type": "markdown",
   "id": "2b0dfee8-18cb-48dd-b1de-b540e9cfbf93",
   "metadata": {},
   "source": [
    "### Evento PaymentScreenSuccessful - Pago en Pantalla Exitoso en el grupo de control 247 y grupo de fuentes alteradas 248"
   ]
  },
  {
   "cell_type": "code",
   "execution_count": 95,
   "id": "ecbe8f87-5ec7-4669-b789-faedf98cc988",
   "metadata": {},
   "outputs": [
    {
     "name": "stdout",
     "output_type": "stream",
     "text": [
      "p_valor: 0.07435502272728042 Aceptamos la hipótesis nula, no hay una diferencia estadistícamente significativa entre los grupos\n"
     ]
    }
   ],
   "source": [
    "sample_evento_grupo (eventos_limpio,\"grupo_de_control\",\"nombre_evento\",\"id_usuario\", 247, 248,\"PaymentScreenSuccessful\")"
   ]
  },
  {
   "cell_type": "markdown",
   "id": "dde83edc-a90b-410c-bd1c-899935e5fb34",
   "metadata": {},
   "source": [
    "### Evento Tutorial  - Tutoría en el grupo de control 247 y grupo de fuentes alteradas 248"
   ]
  },
  {
   "cell_type": "code",
   "execution_count": 96,
   "id": "4527acbf-3519-4018-942c-ecfa4a37b6a0",
   "metadata": {},
   "outputs": [
    {
     "name": "stdout",
     "output_type": "stream",
     "text": [
      "p_valor: 0.20128156004943998 Aceptamos la hipótesis nula, no hay una diferencia estadistícamente significativa entre los grupos\n"
     ]
    }
   ],
   "source": [
    "sample_evento_grupo (eventos_limpio,\"grupo_de_control\",\"nombre_evento\",\"id_usuario\", 247, 248,\"Tutorial\")"
   ]
  },
  {
   "cell_type": "markdown",
   "id": "68c81a14-8192-4978-85c2-92f77aec7774",
   "metadata": {},
   "source": [
    "* Compara los resultados con los resultados combinados de los grupos de control. "
   ]
  },
  {
   "cell_type": "code",
   "execution_count": 97,
   "id": "e3d6ddeb-0b71-4591-aa7d-717d24d0b699",
   "metadata": {},
   "outputs": [],
   "source": [
    "# Para este punto hacemos un pequeño ajuste en la función creada anteriormente para comparar los grupos control combinados \n",
    "# y la renombramos como sample_evento_grupo2:"
   ]
  },
  {
   "cell_type": "code",
   "execution_count": 98,
   "id": "be68d4a8-fb54-465b-bd07-66eacec9bf8c",
   "metadata": {},
   "outputs": [],
   "source": [
    "def sample_evento_grupo2(df, colum_grupo_control,colum_evento,colum_id_usuario, grupo_control1, grupo_control2, nombre_evento):\n",
    "    filtro_evento1 = pd.DataFrame(df[(df[colum_grupo_control]!=grupo_control1)&(df[colum_evento]==nombre_evento)][colum_id_usuario].value_counts()).reset_index()\n",
    "    concatenar_evento1 = pd.concat([filtro_evento1['id_usuario'],pd.Series(0, index=np.arange(df[df[colum_grupo_control]!=grupo_control1][colum_id_usuario].count() - len(filtro_evento1['id_usuario'])))], axis = 0)\n",
    " \n",
    "\n",
    "    filtro_evento2 = pd.DataFrame(df[(df[colum_grupo_control]==grupo_control2)&(df[colum_evento]==nombre_evento)][colum_id_usuario].value_counts()).reset_index()\n",
    "    concatenar_evento2 = pd.concat([filtro_evento2['id_usuario'],pd.Series(0, index=np.arange(df[df[colum_grupo_control]==grupo_control2][colum_id_usuario].count() - len(filtro_evento2['id_usuario'])))], axis = 0)\n",
    "    \n",
    "    Mannwhitneyu_grupos_control = (stats.mannwhitneyu(concatenar_evento1,concatenar_evento2)[1])\n",
    "    \n",
    "    if Mannwhitneyu_grupos_control >= 0.05:\n",
    "        print(\"p_valor:\", Mannwhitneyu_grupos_control, \"Aceptamos la hipótesis nula, no hay una diferencia estadistícamente significativa entre los grupos\"),\n",
    "    else:\n",
    "        print(\"p_valor:\", Mannwhitneyu_grupos_control, \"No podemos aceptar la hipótesis nula, hay una diferencia estadistícamente significativa entre los grupos\")"
   ]
  },
  {
   "cell_type": "markdown",
   "id": "cf544b4b-d71a-4b5e-9899-afc1296892af",
   "metadata": {},
   "source": [
    "### Evento \"MainScreenAppear\" , \"Aparece la pantalla principal\" en los grupos combinados y grupo de fuentes alteradas 248"
   ]
  },
  {
   "cell_type": "code",
   "execution_count": 99,
   "id": "8b529403-bb70-41e4-8f49-6779396733e5",
   "metadata": {},
   "outputs": [
    {
     "name": "stdout",
     "output_type": "stream",
     "text": [
      "p_valor: 0.006468454232482094 No podemos aceptar la hipótesis nula, hay una diferencia estadistícamente significativa entre los grupos\n"
     ]
    }
   ],
   "source": [
    "sample_evento_grupo2 (eventos_limpio,\"grupo_de_control\",\"nombre_evento\",\"id_usuario\", 248, 248,\"MainScreenAppear\")"
   ]
  },
  {
   "cell_type": "markdown",
   "id": "1ce3eac0-c474-4d05-a60e-1c18021349e8",
   "metadata": {},
   "source": [
    "### Evento OffersScreenAppear, Aparecen Ofertas en la Pantalla en los grupos combinados y grupo de fuentes alteradas 248"
   ]
  },
  {
   "cell_type": "code",
   "execution_count": 100,
   "id": "c8843cff-9d70-4b47-b585-628921d27172",
   "metadata": {},
   "outputs": [
    {
     "name": "stdout",
     "output_type": "stream",
     "text": [
      "p_valor: 0.010999884303322141 No podemos aceptar la hipótesis nula, hay una diferencia estadistícamente significativa entre los grupos\n"
     ]
    }
   ],
   "source": [
    "sample_evento_grupo2 (eventos_limpio,\"grupo_de_control\",\"nombre_evento\",\"id_usuario\", 248, 248,\"OffersScreenAppear\")"
   ]
  },
  {
   "cell_type": "markdown",
   "id": "aa197dc0-6d7d-46a5-b070-7efd7dfc462a",
   "metadata": {},
   "source": [
    "### Evento CartScreenAppear  - Aparece el Carro en la Pantalla en los grupos combinados y grupo de fuentes alteradas 248"
   ]
  },
  {
   "cell_type": "code",
   "execution_count": 101,
   "id": "a77cb189-ccac-4841-acf5-c3e858cf8aaf",
   "metadata": {},
   "outputs": [
    {
     "name": "stdout",
     "output_type": "stream",
     "text": [
      "p_valor: 0.005581606642317433 No podemos aceptar la hipótesis nula, hay una diferencia estadistícamente significativa entre los grupos\n"
     ]
    }
   ],
   "source": [
    "sample_evento_grupo2 (eventos_limpio,\"grupo_de_control\",\"nombre_evento\",\"id_usuario\", 248, 248,\"CartScreenAppear\")"
   ]
  },
  {
   "cell_type": "markdown",
   "id": "23f36c0f-1010-4c94-9e4e-887c692ed34f",
   "metadata": {},
   "source": [
    "### Evento PaymentScreenSuccessful - Pago en Pantalla Exitoso en los grupos combinados y grupo de fuentes alteradas 248"
   ]
  },
  {
   "cell_type": "code",
   "execution_count": 102,
   "id": "423e7423-4994-4373-80e0-bb24f9220a8d",
   "metadata": {},
   "outputs": [
    {
     "name": "stdout",
     "output_type": "stream",
     "text": [
      "p_valor: 0.030210439202007364 No podemos aceptar la hipótesis nula, hay una diferencia estadistícamente significativa entre los grupos\n"
     ]
    }
   ],
   "source": [
    "sample_evento_grupo2 (eventos_limpio,\"grupo_de_control\",\"nombre_evento\",\"id_usuario\", 248, 248,\"PaymentScreenSuccessful\")"
   ]
  },
  {
   "cell_type": "markdown",
   "id": "8404b7f9-aadc-4a62-8f50-2ab98b51693d",
   "metadata": {},
   "source": [
    "### Evento Tutorial  - Tutoría los grupos combinados y grupo de fuentes alteradas 248"
   ]
  },
  {
   "cell_type": "code",
   "execution_count": 103,
   "id": "747cfea6-8409-45cf-ae7a-74a42358ade2",
   "metadata": {},
   "outputs": [
    {
     "name": "stdout",
     "output_type": "stream",
     "text": [
      "p_valor: 0.2506671362717705 Aceptamos la hipótesis nula, no hay una diferencia estadistícamente significativa entre los grupos\n"
     ]
    }
   ],
   "source": [
    "sample_evento_grupo2 (eventos_limpio,\"grupo_de_control\",\"nombre_evento\",\"id_usuario\", 248, 248,\"Tutorial\")"
   ]
  },
  {
   "cell_type": "markdown",
   "id": "1baa83f0-82ab-4d69-bf68-f394b11c5e32",
   "metadata": {},
   "source": [
    "#### Conclusiones:\n",
    "\n",
    "* Comparando los grupos 246 y 248 se evidencia que en todos los eventos que pertenecen a la misma secuencia de la compra a excepción de la acción cuando aparece la pantalla principal hay una diferencia significativa entre los grupos, esto puede mostrarnos que si está siendo efectivo el cambio de fuentes en toda la aplicación. Y puede que no haya nuevos ingresos a la pantalla principal, pero si nuevas ejecuciones de compras hasta llegar al pago.\n",
    "* Con respecto a los grupos 247 vs 248 se evidencia una diferencia significativa en todos los eventos que pertenecen a la misma secuencia de la compra a excepción de la acción del pago en pantalla exitoso, esto nos puede mostrar que se están llegando a nuevos clientes, pero se debe fortalecer la etapa de concretarlos para que lleguen al pago y se hagan más ventas efectivas.\n",
    "* Por último, en cuanto a los grupos combinados 246 y 247 vs el 248 se evidencia una diferencia significativa en todos los eventos que pertenecen a la misma secuencia de la compra, esto nos indica que a nivel general el cambio de fuentes en toda la aplicación ha funcionado en toda la secuencia de compra desde la visualización de la página hasta el pago.\n",
    "* En cuanto al evento tutoría en todos los experimentos no hubo diferencia significativa, es decir que los cambios en los grupos no afectaron este evento.\n"
   ]
  },
  {
   "cell_type": "markdown",
   "id": "afa3eb24-96d8-491b-96e6-57b98a682297",
   "metadata": {},
   "source": [
    "* ¿Qué nivel de significación has establecido para probar las hipótesis estadísticas mencionadas anteriormente? Calcula cuántas pruebas de hipótesis estadísticas has realizado. Con un nivel de significancia estadística de 0.1, uno de cada 10 resultados podría ser falso. ¿Cuál debería ser el nivel de significación? Si deseas cambiarlo, vuelve a ejecutar los pasos anteriores y comprueba tus conclusiones."
   ]
  },
  {
   "cell_type": "markdown",
   "id": "b83f5e4d-7a87-404c-ae30-87970f3649eb",
   "metadata": {},
   "source": [
    "Para las pruebas de hipótesis se estableció un nivel de significancia del 5% es decir que cada 10 resultados 0.5 podría ser falso, y de acuerdo con mi criterí profesional es un buen margen y se deja en ese nivel."
   ]
  }
 ],
 "metadata": {
  "ExecuteTimeLog": [
   {
    "duration": 2653,
    "start_time": "2024-11-11T19:54:13.095Z"
   },
   {
    "duration": 267,
    "start_time": "2024-11-11T19:54:15.750Z"
   },
   {
    "duration": 9,
    "start_time": "2024-11-11T19:54:16.019Z"
   },
   {
    "duration": 157,
    "start_time": "2024-11-11T19:54:16.030Z"
   },
   {
    "duration": 6,
    "start_time": "2024-11-11T19:54:16.189Z"
   },
   {
    "duration": 19,
    "start_time": "2024-11-11T19:54:16.197Z"
   },
   {
    "duration": 2,
    "start_time": "2024-11-11T19:54:16.218Z"
   },
   {
    "duration": 5,
    "start_time": "2024-11-11T19:54:16.222Z"
   },
   {
    "duration": 7,
    "start_time": "2024-11-11T19:54:16.229Z"
   },
   {
    "duration": 92,
    "start_time": "2024-11-11T19:54:16.240Z"
   },
   {
    "duration": 8,
    "start_time": "2024-11-11T19:54:16.333Z"
   },
   {
    "duration": 22,
    "start_time": "2024-11-11T19:54:16.343Z"
   },
   {
    "duration": 393,
    "start_time": "2024-11-11T19:54:16.367Z"
   },
   {
    "duration": 0,
    "start_time": "2024-11-11T19:54:16.766Z"
   },
   {
    "duration": 0,
    "start_time": "2024-11-11T19:54:16.767Z"
   },
   {
    "duration": 0,
    "start_time": "2024-11-11T19:54:16.767Z"
   },
   {
    "duration": 0,
    "start_time": "2024-11-11T19:54:16.768Z"
   },
   {
    "duration": 0,
    "start_time": "2024-11-11T19:54:16.769Z"
   },
   {
    "duration": 0,
    "start_time": "2024-11-11T19:54:16.771Z"
   },
   {
    "duration": 0,
    "start_time": "2024-11-11T19:54:16.772Z"
   },
   {
    "duration": 0,
    "start_time": "2024-11-11T19:54:16.772Z"
   },
   {
    "duration": 0,
    "start_time": "2024-11-11T19:54:16.773Z"
   },
   {
    "duration": 0,
    "start_time": "2024-11-11T19:54:16.786Z"
   },
   {
    "duration": 0,
    "start_time": "2024-11-11T19:54:16.787Z"
   },
   {
    "duration": 0,
    "start_time": "2024-11-11T19:54:16.788Z"
   },
   {
    "duration": 0,
    "start_time": "2024-11-11T19:54:16.789Z"
   },
   {
    "duration": 0,
    "start_time": "2024-11-11T19:54:16.790Z"
   },
   {
    "duration": 0,
    "start_time": "2024-11-11T19:54:16.791Z"
   },
   {
    "duration": 0,
    "start_time": "2024-11-11T19:54:16.792Z"
   },
   {
    "duration": 0,
    "start_time": "2024-11-11T19:54:16.794Z"
   },
   {
    "duration": 0,
    "start_time": "2024-11-11T19:54:16.795Z"
   },
   {
    "duration": 0,
    "start_time": "2024-11-11T19:54:16.796Z"
   },
   {
    "duration": 0,
    "start_time": "2024-11-11T19:54:16.797Z"
   },
   {
    "duration": 0,
    "start_time": "2024-11-11T19:54:16.798Z"
   },
   {
    "duration": 0,
    "start_time": "2024-11-11T19:54:16.799Z"
   },
   {
    "duration": 0,
    "start_time": "2024-11-11T19:54:16.800Z"
   },
   {
    "duration": 0,
    "start_time": "2024-11-11T19:54:16.801Z"
   },
   {
    "duration": 0,
    "start_time": "2024-11-11T19:54:16.802Z"
   },
   {
    "duration": 0,
    "start_time": "2024-11-11T19:54:16.804Z"
   },
   {
    "duration": 0,
    "start_time": "2024-11-11T19:54:16.805Z"
   },
   {
    "duration": 0,
    "start_time": "2024-11-11T19:54:16.806Z"
   },
   {
    "duration": 0,
    "start_time": "2024-11-11T19:54:16.807Z"
   },
   {
    "duration": 0,
    "start_time": "2024-11-11T19:54:16.808Z"
   },
   {
    "duration": 0,
    "start_time": "2024-11-11T19:54:16.809Z"
   },
   {
    "duration": 0,
    "start_time": "2024-11-11T19:54:16.810Z"
   },
   {
    "duration": 0,
    "start_time": "2024-11-11T19:54:16.811Z"
   },
   {
    "duration": 0,
    "start_time": "2024-11-11T19:54:16.812Z"
   },
   {
    "duration": 0,
    "start_time": "2024-11-11T19:54:16.812Z"
   },
   {
    "duration": 0,
    "start_time": "2024-11-11T19:54:16.813Z"
   },
   {
    "duration": 0,
    "start_time": "2024-11-11T19:54:16.814Z"
   },
   {
    "duration": 0,
    "start_time": "2024-11-11T19:54:16.815Z"
   },
   {
    "duration": 0,
    "start_time": "2024-11-11T19:54:16.817Z"
   },
   {
    "duration": 0,
    "start_time": "2024-11-11T19:54:16.818Z"
   },
   {
    "duration": 0,
    "start_time": "2024-11-11T19:54:16.819Z"
   },
   {
    "duration": 0,
    "start_time": "2024-11-11T19:54:16.819Z"
   },
   {
    "duration": 0,
    "start_time": "2024-11-11T19:54:16.820Z"
   },
   {
    "duration": 0,
    "start_time": "2024-11-11T19:54:16.821Z"
   },
   {
    "duration": 0,
    "start_time": "2024-11-11T19:54:16.823Z"
   },
   {
    "duration": 0,
    "start_time": "2024-11-11T19:54:16.824Z"
   },
   {
    "duration": 0,
    "start_time": "2024-11-11T19:54:16.825Z"
   },
   {
    "duration": 0,
    "start_time": "2024-11-11T19:54:16.826Z"
   },
   {
    "duration": 0,
    "start_time": "2024-11-11T19:54:16.827Z"
   },
   {
    "duration": 0,
    "start_time": "2024-11-11T19:54:16.828Z"
   },
   {
    "duration": 0,
    "start_time": "2024-11-11T19:54:16.886Z"
   },
   {
    "duration": 0,
    "start_time": "2024-11-11T19:54:16.887Z"
   },
   {
    "duration": 0,
    "start_time": "2024-11-11T19:54:16.888Z"
   },
   {
    "duration": 0,
    "start_time": "2024-11-11T19:54:16.889Z"
   },
   {
    "duration": 0,
    "start_time": "2024-11-11T19:54:16.891Z"
   },
   {
    "duration": 1,
    "start_time": "2024-11-11T19:54:16.891Z"
   },
   {
    "duration": 0,
    "start_time": "2024-11-11T19:54:16.892Z"
   },
   {
    "duration": 0,
    "start_time": "2024-11-11T19:54:16.894Z"
   },
   {
    "duration": 0,
    "start_time": "2024-11-11T19:54:16.895Z"
   },
   {
    "duration": 0,
    "start_time": "2024-11-11T19:54:16.895Z"
   },
   {
    "duration": 0,
    "start_time": "2024-11-11T19:54:16.897Z"
   },
   {
    "duration": 0,
    "start_time": "2024-11-11T19:54:16.897Z"
   },
   {
    "duration": 0,
    "start_time": "2024-11-11T19:54:16.898Z"
   },
   {
    "duration": 0,
    "start_time": "2024-11-11T19:54:16.899Z"
   },
   {
    "duration": 0,
    "start_time": "2024-11-11T19:54:16.901Z"
   },
   {
    "duration": 0,
    "start_time": "2024-11-11T19:54:16.902Z"
   },
   {
    "duration": 0,
    "start_time": "2024-11-11T19:54:16.902Z"
   },
   {
    "duration": 0,
    "start_time": "2024-11-11T19:54:16.903Z"
   },
   {
    "duration": 0,
    "start_time": "2024-11-11T19:54:16.905Z"
   },
   {
    "duration": 0,
    "start_time": "2024-11-11T19:54:16.906Z"
   },
   {
    "duration": 0,
    "start_time": "2024-11-11T19:54:16.907Z"
   },
   {
    "duration": 0,
    "start_time": "2024-11-11T19:54:16.908Z"
   },
   {
    "duration": 0,
    "start_time": "2024-11-11T19:54:16.909Z"
   },
   {
    "duration": 0,
    "start_time": "2024-11-11T19:54:16.909Z"
   },
   {
    "duration": 0,
    "start_time": "2024-11-11T19:54:16.911Z"
   },
   {
    "duration": 0,
    "start_time": "2024-11-11T19:54:16.912Z"
   },
   {
    "duration": 0,
    "start_time": "2024-11-11T19:54:16.913Z"
   },
   {
    "duration": 0,
    "start_time": "2024-11-11T19:54:16.913Z"
   },
   {
    "duration": 0,
    "start_time": "2024-11-11T19:54:16.914Z"
   },
   {
    "duration": 1,
    "start_time": "2024-11-11T19:54:16.915Z"
   },
   {
    "duration": 0,
    "start_time": "2024-11-11T19:54:16.916Z"
   },
   {
    "duration": 0,
    "start_time": "2024-11-11T19:54:16.917Z"
   },
   {
    "duration": 0,
    "start_time": "2024-11-11T19:54:16.919Z"
   },
   {
    "duration": 0,
    "start_time": "2024-11-11T19:54:16.919Z"
   },
   {
    "duration": 0,
    "start_time": "2024-11-11T19:54:16.920Z"
   },
   {
    "duration": 0,
    "start_time": "2024-11-11T19:54:16.921Z"
   },
   {
    "duration": 0,
    "start_time": "2024-11-11T19:54:16.922Z"
   },
   {
    "duration": 0,
    "start_time": "2024-11-11T19:54:16.923Z"
   },
   {
    "duration": 0,
    "start_time": "2024-11-11T19:54:16.924Z"
   },
   {
    "duration": 0,
    "start_time": "2024-11-11T19:54:16.925Z"
   },
   {
    "duration": 2600,
    "start_time": "2024-11-12T00:22:49.612Z"
   },
   {
    "duration": 223,
    "start_time": "2024-11-12T00:22:52.215Z"
   },
   {
    "duration": 8,
    "start_time": "2024-11-12T00:22:52.440Z"
   },
   {
    "duration": 111,
    "start_time": "2024-11-12T00:22:52.450Z"
   },
   {
    "duration": 7,
    "start_time": "2024-11-12T00:22:52.564Z"
   },
   {
    "duration": 17,
    "start_time": "2024-11-12T00:22:52.573Z"
   },
   {
    "duration": 3,
    "start_time": "2024-11-12T00:22:52.592Z"
   },
   {
    "duration": 6,
    "start_time": "2024-11-12T00:22:52.596Z"
   },
   {
    "duration": 29,
    "start_time": "2024-11-12T00:22:52.604Z"
   },
   {
    "duration": 43,
    "start_time": "2024-11-12T00:22:52.635Z"
   },
   {
    "duration": 8,
    "start_time": "2024-11-12T00:22:52.679Z"
   },
   {
    "duration": 51,
    "start_time": "2024-11-12T00:22:52.689Z"
   },
   {
    "duration": 352,
    "start_time": "2024-11-12T00:22:52.742Z"
   },
   {
    "duration": 0,
    "start_time": "2024-11-12T00:22:53.100Z"
   },
   {
    "duration": 0,
    "start_time": "2024-11-12T00:22:53.101Z"
   },
   {
    "duration": 0,
    "start_time": "2024-11-12T00:22:53.102Z"
   },
   {
    "duration": 0,
    "start_time": "2024-11-12T00:22:53.103Z"
   },
   {
    "duration": 0,
    "start_time": "2024-11-12T00:22:53.104Z"
   },
   {
    "duration": 0,
    "start_time": "2024-11-12T00:22:53.106Z"
   },
   {
    "duration": 0,
    "start_time": "2024-11-12T00:22:53.107Z"
   },
   {
    "duration": 0,
    "start_time": "2024-11-12T00:22:53.108Z"
   },
   {
    "duration": 0,
    "start_time": "2024-11-12T00:22:53.109Z"
   },
   {
    "duration": 0,
    "start_time": "2024-11-12T00:22:53.110Z"
   },
   {
    "duration": 0,
    "start_time": "2024-11-12T00:22:53.131Z"
   },
   {
    "duration": 0,
    "start_time": "2024-11-12T00:22:53.132Z"
   },
   {
    "duration": 0,
    "start_time": "2024-11-12T00:22:53.134Z"
   },
   {
    "duration": 0,
    "start_time": "2024-11-12T00:22:53.135Z"
   },
   {
    "duration": 0,
    "start_time": "2024-11-12T00:22:53.136Z"
   },
   {
    "duration": 0,
    "start_time": "2024-11-12T00:22:53.137Z"
   },
   {
    "duration": 0,
    "start_time": "2024-11-12T00:22:53.139Z"
   },
   {
    "duration": 0,
    "start_time": "2024-11-12T00:22:53.140Z"
   },
   {
    "duration": 0,
    "start_time": "2024-11-12T00:22:53.141Z"
   },
   {
    "duration": 0,
    "start_time": "2024-11-12T00:22:53.142Z"
   },
   {
    "duration": 0,
    "start_time": "2024-11-12T00:22:53.144Z"
   },
   {
    "duration": 0,
    "start_time": "2024-11-12T00:22:53.145Z"
   },
   {
    "duration": 0,
    "start_time": "2024-11-12T00:22:53.147Z"
   },
   {
    "duration": 0,
    "start_time": "2024-11-12T00:22:53.150Z"
   },
   {
    "duration": 0,
    "start_time": "2024-11-12T00:22:53.152Z"
   },
   {
    "duration": 0,
    "start_time": "2024-11-12T00:22:53.153Z"
   },
   {
    "duration": 0,
    "start_time": "2024-11-12T00:22:53.154Z"
   },
   {
    "duration": 0,
    "start_time": "2024-11-12T00:22:53.156Z"
   },
   {
    "duration": 1,
    "start_time": "2024-11-12T00:22:53.157Z"
   },
   {
    "duration": 0,
    "start_time": "2024-11-12T00:22:53.159Z"
   },
   {
    "duration": 0,
    "start_time": "2024-11-12T00:22:53.160Z"
   },
   {
    "duration": 0,
    "start_time": "2024-11-12T00:22:53.161Z"
   },
   {
    "duration": 0,
    "start_time": "2024-11-12T00:22:53.162Z"
   },
   {
    "duration": 0,
    "start_time": "2024-11-12T00:22:53.163Z"
   },
   {
    "duration": 0,
    "start_time": "2024-11-12T00:22:53.164Z"
   },
   {
    "duration": 0,
    "start_time": "2024-11-12T00:22:53.165Z"
   },
   {
    "duration": 0,
    "start_time": "2024-11-12T00:22:53.166Z"
   },
   {
    "duration": 0,
    "start_time": "2024-11-12T00:22:53.168Z"
   },
   {
    "duration": 0,
    "start_time": "2024-11-12T00:22:53.170Z"
   },
   {
    "duration": 0,
    "start_time": "2024-11-12T00:22:53.171Z"
   },
   {
    "duration": 0,
    "start_time": "2024-11-12T00:22:53.231Z"
   },
   {
    "duration": 0,
    "start_time": "2024-11-12T00:22:53.233Z"
   },
   {
    "duration": 0,
    "start_time": "2024-11-12T00:22:53.235Z"
   },
   {
    "duration": 0,
    "start_time": "2024-11-12T00:22:53.236Z"
   },
   {
    "duration": 0,
    "start_time": "2024-11-12T00:22:53.237Z"
   },
   {
    "duration": 0,
    "start_time": "2024-11-12T00:22:53.238Z"
   },
   {
    "duration": 0,
    "start_time": "2024-11-12T00:22:53.239Z"
   },
   {
    "duration": 0,
    "start_time": "2024-11-12T00:22:53.240Z"
   },
   {
    "duration": 0,
    "start_time": "2024-11-12T00:22:53.241Z"
   },
   {
    "duration": 0,
    "start_time": "2024-11-12T00:22:53.242Z"
   },
   {
    "duration": 0,
    "start_time": "2024-11-12T00:22:53.244Z"
   },
   {
    "duration": 0,
    "start_time": "2024-11-12T00:22:53.245Z"
   },
   {
    "duration": 0,
    "start_time": "2024-11-12T00:22:53.246Z"
   },
   {
    "duration": 0,
    "start_time": "2024-11-12T00:22:53.248Z"
   },
   {
    "duration": 0,
    "start_time": "2024-11-12T00:22:53.249Z"
   },
   {
    "duration": 0,
    "start_time": "2024-11-12T00:22:53.250Z"
   },
   {
    "duration": 0,
    "start_time": "2024-11-12T00:22:53.251Z"
   },
   {
    "duration": 0,
    "start_time": "2024-11-12T00:22:53.252Z"
   },
   {
    "duration": 0,
    "start_time": "2024-11-12T00:22:53.253Z"
   },
   {
    "duration": 0,
    "start_time": "2024-11-12T00:22:53.254Z"
   },
   {
    "duration": 0,
    "start_time": "2024-11-12T00:22:53.255Z"
   },
   {
    "duration": 0,
    "start_time": "2024-11-12T00:22:53.256Z"
   },
   {
    "duration": 0,
    "start_time": "2024-11-12T00:22:53.257Z"
   },
   {
    "duration": 0,
    "start_time": "2024-11-12T00:22:53.258Z"
   },
   {
    "duration": 0,
    "start_time": "2024-11-12T00:22:53.260Z"
   },
   {
    "duration": 0,
    "start_time": "2024-11-12T00:22:53.261Z"
   },
   {
    "duration": 0,
    "start_time": "2024-11-12T00:22:53.263Z"
   },
   {
    "duration": 0,
    "start_time": "2024-11-12T00:22:53.264Z"
   },
   {
    "duration": 0,
    "start_time": "2024-11-12T00:22:53.265Z"
   },
   {
    "duration": 0,
    "start_time": "2024-11-12T00:22:53.268Z"
   },
   {
    "duration": 0,
    "start_time": "2024-11-12T00:22:53.269Z"
   },
   {
    "duration": 0,
    "start_time": "2024-11-12T00:22:53.332Z"
   },
   {
    "duration": 0,
    "start_time": "2024-11-12T00:22:53.333Z"
   },
   {
    "duration": 0,
    "start_time": "2024-11-12T00:22:53.334Z"
   },
   {
    "duration": 0,
    "start_time": "2024-11-12T00:22:53.336Z"
   },
   {
    "duration": 0,
    "start_time": "2024-11-12T00:22:53.337Z"
   },
   {
    "duration": 0,
    "start_time": "2024-11-12T00:22:53.338Z"
   },
   {
    "duration": 1,
    "start_time": "2024-11-12T00:22:53.340Z"
   },
   {
    "duration": 0,
    "start_time": "2024-11-12T00:22:53.342Z"
   },
   {
    "duration": 0,
    "start_time": "2024-11-12T00:22:53.343Z"
   },
   {
    "duration": 0,
    "start_time": "2024-11-12T00:22:53.344Z"
   },
   {
    "duration": 0,
    "start_time": "2024-11-12T00:22:53.345Z"
   },
   {
    "duration": 1,
    "start_time": "2024-11-12T00:22:53.346Z"
   },
   {
    "duration": 0,
    "start_time": "2024-11-12T00:22:53.347Z"
   },
   {
    "duration": 0,
    "start_time": "2024-11-12T00:22:53.348Z"
   },
   {
    "duration": 0,
    "start_time": "2024-11-12T00:22:53.349Z"
   },
   {
    "duration": 0,
    "start_time": "2024-11-12T00:22:53.351Z"
   },
   {
    "duration": 0,
    "start_time": "2024-11-12T00:22:53.352Z"
   },
   {
    "duration": 0,
    "start_time": "2024-11-12T00:22:53.355Z"
   },
   {
    "duration": 0,
    "start_time": "2024-11-12T00:22:53.355Z"
   },
   {
    "duration": 182,
    "start_time": "2024-11-12T01:25:47.839Z"
   },
   {
    "duration": 2678,
    "start_time": "2024-11-12T01:25:55.705Z"
   },
   {
    "duration": 296,
    "start_time": "2024-11-12T01:25:58.385Z"
   },
   {
    "duration": 8,
    "start_time": "2024-11-12T01:25:58.686Z"
   },
   {
    "duration": 120,
    "start_time": "2024-11-12T01:25:58.698Z"
   },
   {
    "duration": 7,
    "start_time": "2024-11-12T01:25:58.821Z"
   },
   {
    "duration": 17,
    "start_time": "2024-11-12T01:25:58.830Z"
   },
   {
    "duration": 3,
    "start_time": "2024-11-12T01:25:58.849Z"
   },
   {
    "duration": 4,
    "start_time": "2024-11-12T01:25:58.854Z"
   },
   {
    "duration": 8,
    "start_time": "2024-11-12T01:25:58.860Z"
   },
   {
    "duration": 74,
    "start_time": "2024-11-12T01:25:58.871Z"
   },
   {
    "duration": 9,
    "start_time": "2024-11-12T01:25:58.947Z"
   },
   {
    "duration": 26,
    "start_time": "2024-11-12T01:25:58.958Z"
   },
   {
    "duration": 365,
    "start_time": "2024-11-12T01:25:58.986Z"
   },
   {
    "duration": 0,
    "start_time": "2024-11-12T01:25:59.356Z"
   },
   {
    "duration": 0,
    "start_time": "2024-11-12T01:25:59.358Z"
   },
   {
    "duration": 0,
    "start_time": "2024-11-12T01:25:59.359Z"
   },
   {
    "duration": 0,
    "start_time": "2024-11-12T01:25:59.360Z"
   },
   {
    "duration": 0,
    "start_time": "2024-11-12T01:25:59.362Z"
   },
   {
    "duration": 0,
    "start_time": "2024-11-12T01:25:59.364Z"
   },
   {
    "duration": 0,
    "start_time": "2024-11-12T01:25:59.365Z"
   },
   {
    "duration": 0,
    "start_time": "2024-11-12T01:25:59.367Z"
   },
   {
    "duration": 0,
    "start_time": "2024-11-12T01:25:59.368Z"
   },
   {
    "duration": 0,
    "start_time": "2024-11-12T01:25:59.369Z"
   },
   {
    "duration": 0,
    "start_time": "2024-11-12T01:25:59.370Z"
   },
   {
    "duration": 0,
    "start_time": "2024-11-12T01:25:59.371Z"
   },
   {
    "duration": 0,
    "start_time": "2024-11-12T01:25:59.372Z"
   },
   {
    "duration": 0,
    "start_time": "2024-11-12T01:25:59.373Z"
   },
   {
    "duration": 0,
    "start_time": "2024-11-12T01:25:59.374Z"
   },
   {
    "duration": 0,
    "start_time": "2024-11-12T01:25:59.375Z"
   },
   {
    "duration": 0,
    "start_time": "2024-11-12T01:25:59.376Z"
   },
   {
    "duration": 0,
    "start_time": "2024-11-12T01:25:59.377Z"
   },
   {
    "duration": 0,
    "start_time": "2024-11-12T01:25:59.379Z"
   },
   {
    "duration": 0,
    "start_time": "2024-11-12T01:25:59.408Z"
   },
   {
    "duration": 0,
    "start_time": "2024-11-12T01:25:59.410Z"
   },
   {
    "duration": 0,
    "start_time": "2024-11-12T01:25:59.411Z"
   },
   {
    "duration": 0,
    "start_time": "2024-11-12T01:25:59.412Z"
   },
   {
    "duration": 0,
    "start_time": "2024-11-12T01:25:59.413Z"
   },
   {
    "duration": 0,
    "start_time": "2024-11-12T01:25:59.414Z"
   },
   {
    "duration": 0,
    "start_time": "2024-11-12T01:25:59.416Z"
   },
   {
    "duration": 0,
    "start_time": "2024-11-12T01:25:59.417Z"
   },
   {
    "duration": 0,
    "start_time": "2024-11-12T01:25:59.418Z"
   },
   {
    "duration": 0,
    "start_time": "2024-11-12T01:25:59.419Z"
   },
   {
    "duration": 0,
    "start_time": "2024-11-12T01:25:59.420Z"
   },
   {
    "duration": 0,
    "start_time": "2024-11-12T01:25:59.421Z"
   },
   {
    "duration": 0,
    "start_time": "2024-11-12T01:25:59.423Z"
   },
   {
    "duration": 0,
    "start_time": "2024-11-12T01:25:59.425Z"
   },
   {
    "duration": 0,
    "start_time": "2024-11-12T01:25:59.426Z"
   },
   {
    "duration": 0,
    "start_time": "2024-11-12T01:25:59.427Z"
   },
   {
    "duration": 0,
    "start_time": "2024-11-12T01:25:59.428Z"
   },
   {
    "duration": 0,
    "start_time": "2024-11-12T01:25:59.429Z"
   },
   {
    "duration": 0,
    "start_time": "2024-11-12T01:25:59.431Z"
   },
   {
    "duration": 0,
    "start_time": "2024-11-12T01:25:59.432Z"
   },
   {
    "duration": 0,
    "start_time": "2024-11-12T01:25:59.434Z"
   },
   {
    "duration": 0,
    "start_time": "2024-11-12T01:25:59.434Z"
   },
   {
    "duration": 0,
    "start_time": "2024-11-12T01:25:59.436Z"
   },
   {
    "duration": 0,
    "start_time": "2024-11-12T01:25:59.437Z"
   },
   {
    "duration": 0,
    "start_time": "2024-11-12T01:25:59.438Z"
   },
   {
    "duration": 0,
    "start_time": "2024-11-12T01:25:59.439Z"
   },
   {
    "duration": 0,
    "start_time": "2024-11-12T01:25:59.440Z"
   },
   {
    "duration": 0,
    "start_time": "2024-11-12T01:25:59.441Z"
   },
   {
    "duration": 0,
    "start_time": "2024-11-12T01:25:59.442Z"
   },
   {
    "duration": 0,
    "start_time": "2024-11-12T01:25:59.443Z"
   },
   {
    "duration": 0,
    "start_time": "2024-11-12T01:25:59.444Z"
   },
   {
    "duration": 0,
    "start_time": "2024-11-12T01:25:59.445Z"
   },
   {
    "duration": 0,
    "start_time": "2024-11-12T01:25:59.446Z"
   },
   {
    "duration": 0,
    "start_time": "2024-11-12T01:25:59.447Z"
   },
   {
    "duration": 0,
    "start_time": "2024-11-12T01:25:59.448Z"
   },
   {
    "duration": 0,
    "start_time": "2024-11-12T01:25:59.449Z"
   },
   {
    "duration": 0,
    "start_time": "2024-11-12T01:25:59.450Z"
   },
   {
    "duration": 0,
    "start_time": "2024-11-12T01:25:59.452Z"
   },
   {
    "duration": 0,
    "start_time": "2024-11-12T01:25:59.510Z"
   },
   {
    "duration": 0,
    "start_time": "2024-11-12T01:25:59.511Z"
   },
   {
    "duration": 0,
    "start_time": "2024-11-12T01:25:59.513Z"
   },
   {
    "duration": 0,
    "start_time": "2024-11-12T01:25:59.515Z"
   },
   {
    "duration": 0,
    "start_time": "2024-11-12T01:25:59.516Z"
   },
   {
    "duration": 0,
    "start_time": "2024-11-12T01:25:59.518Z"
   },
   {
    "duration": 0,
    "start_time": "2024-11-12T01:25:59.519Z"
   },
   {
    "duration": 0,
    "start_time": "2024-11-12T01:25:59.521Z"
   },
   {
    "duration": 0,
    "start_time": "2024-11-12T01:25:59.522Z"
   },
   {
    "duration": 0,
    "start_time": "2024-11-12T01:25:59.523Z"
   },
   {
    "duration": 0,
    "start_time": "2024-11-12T01:25:59.525Z"
   },
   {
    "duration": 0,
    "start_time": "2024-11-12T01:25:59.526Z"
   },
   {
    "duration": 0,
    "start_time": "2024-11-12T01:25:59.528Z"
   },
   {
    "duration": 0,
    "start_time": "2024-11-12T01:25:59.529Z"
   },
   {
    "duration": 0,
    "start_time": "2024-11-12T01:25:59.530Z"
   },
   {
    "duration": 0,
    "start_time": "2024-11-12T01:25:59.531Z"
   },
   {
    "duration": 0,
    "start_time": "2024-11-12T01:25:59.533Z"
   },
   {
    "duration": 0,
    "start_time": "2024-11-12T01:25:59.534Z"
   },
   {
    "duration": 0,
    "start_time": "2024-11-12T01:25:59.536Z"
   },
   {
    "duration": 0,
    "start_time": "2024-11-12T01:25:59.538Z"
   },
   {
    "duration": 0,
    "start_time": "2024-11-12T01:25:59.539Z"
   },
   {
    "duration": 0,
    "start_time": "2024-11-12T01:25:59.541Z"
   },
   {
    "duration": 0,
    "start_time": "2024-11-12T01:25:59.543Z"
   },
   {
    "duration": 0,
    "start_time": "2024-11-12T01:25:59.544Z"
   },
   {
    "duration": 1,
    "start_time": "2024-11-12T01:25:59.545Z"
   },
   {
    "duration": 0,
    "start_time": "2024-11-12T01:25:59.547Z"
   },
   {
    "duration": 0,
    "start_time": "2024-11-12T01:25:59.548Z"
   },
   {
    "duration": 0,
    "start_time": "2024-11-12T01:25:59.550Z"
   },
   {
    "duration": 0,
    "start_time": "2024-11-12T01:25:59.551Z"
   },
   {
    "duration": 0,
    "start_time": "2024-11-12T01:25:59.553Z"
   },
   {
    "duration": 0,
    "start_time": "2024-11-12T01:25:59.613Z"
   },
   {
    "duration": 0,
    "start_time": "2024-11-12T01:25:59.614Z"
   },
   {
    "duration": 0,
    "start_time": "2024-11-12T01:25:59.615Z"
   },
   {
    "duration": 27,
    "start_time": "2024-11-12T01:27:59.898Z"
   },
   {
    "duration": 842,
    "start_time": "2024-11-12T01:28:08.332Z"
   },
   {
    "duration": 204,
    "start_time": "2024-11-12T01:28:09.187Z"
   },
   {
    "duration": 9,
    "start_time": "2024-11-12T01:28:09.392Z"
   },
   {
    "duration": 109,
    "start_time": "2024-11-12T01:28:09.403Z"
   },
   {
    "duration": 7,
    "start_time": "2024-11-12T01:28:09.514Z"
   },
   {
    "duration": 16,
    "start_time": "2024-11-12T01:28:09.523Z"
   },
   {
    "duration": 3,
    "start_time": "2024-11-12T01:28:09.541Z"
   },
   {
    "duration": 5,
    "start_time": "2024-11-12T01:28:09.548Z"
   },
   {
    "duration": 7,
    "start_time": "2024-11-12T01:28:09.555Z"
   },
   {
    "duration": 75,
    "start_time": "2024-11-12T01:28:09.566Z"
   },
   {
    "duration": 7,
    "start_time": "2024-11-12T01:28:09.643Z"
   },
   {
    "duration": 22,
    "start_time": "2024-11-12T01:28:09.652Z"
   },
   {
    "duration": 43,
    "start_time": "2024-11-12T01:28:09.676Z"
   },
   {
    "duration": 17,
    "start_time": "2024-11-12T01:28:09.721Z"
   },
   {
    "duration": 8,
    "start_time": "2024-11-12T01:28:09.739Z"
   },
   {
    "duration": 88,
    "start_time": "2024-11-12T01:28:09.749Z"
   },
   {
    "duration": 71,
    "start_time": "2024-11-12T01:28:09.839Z"
   },
   {
    "duration": 54,
    "start_time": "2024-11-12T01:28:09.912Z"
   },
   {
    "duration": 15,
    "start_time": "2024-11-12T01:28:09.968Z"
   },
   {
    "duration": 42,
    "start_time": "2024-11-12T01:28:09.985Z"
   },
   {
    "duration": 19,
    "start_time": "2024-11-12T01:28:10.031Z"
   },
   {
    "duration": 29,
    "start_time": "2024-11-12T01:28:10.052Z"
   },
   {
    "duration": 27,
    "start_time": "2024-11-12T01:28:10.083Z"
   },
   {
    "duration": 9,
    "start_time": "2024-11-12T01:28:10.112Z"
   },
   {
    "duration": 16,
    "start_time": "2024-11-12T01:28:10.122Z"
   },
   {
    "duration": 6,
    "start_time": "2024-11-12T01:28:10.139Z"
   },
   {
    "duration": 12,
    "start_time": "2024-11-12T01:28:10.147Z"
   },
   {
    "duration": 8,
    "start_time": "2024-11-12T01:28:10.165Z"
   },
   {
    "duration": 37,
    "start_time": "2024-11-12T01:28:10.176Z"
   },
   {
    "duration": 153,
    "start_time": "2024-11-12T01:28:10.215Z"
   },
   {
    "duration": 151,
    "start_time": "2024-11-12T01:28:10.370Z"
   },
   {
    "duration": 11,
    "start_time": "2024-11-12T01:28:10.523Z"
   },
   {
    "duration": 150,
    "start_time": "2024-11-12T01:28:10.535Z"
   },
   {
    "duration": 9,
    "start_time": "2024-11-12T01:28:10.687Z"
   },
   {
    "duration": 30,
    "start_time": "2024-11-12T01:28:10.698Z"
   },
   {
    "duration": 33,
    "start_time": "2024-11-12T01:28:10.731Z"
   },
   {
    "duration": 16,
    "start_time": "2024-11-12T01:28:10.766Z"
   },
   {
    "duration": 134,
    "start_time": "2024-11-12T01:28:10.784Z"
   },
   {
    "duration": 8,
    "start_time": "2024-11-12T01:28:10.921Z"
   },
   {
    "duration": 24,
    "start_time": "2024-11-12T01:28:10.932Z"
   },
   {
    "duration": 198,
    "start_time": "2024-11-12T01:28:10.957Z"
   },
   {
    "duration": 23,
    "start_time": "2024-11-12T01:28:11.157Z"
   },
   {
    "duration": 143,
    "start_time": "2024-11-12T01:28:11.182Z"
   },
   {
    "duration": 43,
    "start_time": "2024-11-12T01:28:11.327Z"
   },
   {
    "duration": 2,
    "start_time": "2024-11-12T01:28:11.372Z"
   },
   {
    "duration": 3,
    "start_time": "2024-11-12T01:28:11.376Z"
   },
   {
    "duration": 32,
    "start_time": "2024-11-12T01:28:11.380Z"
   },
   {
    "duration": 6,
    "start_time": "2024-11-12T01:28:11.414Z"
   },
   {
    "duration": 75,
    "start_time": "2024-11-12T01:28:11.422Z"
   },
   {
    "duration": 11,
    "start_time": "2024-11-12T01:28:11.500Z"
   },
   {
    "duration": 6,
    "start_time": "2024-11-12T01:28:11.515Z"
   },
   {
    "duration": 7,
    "start_time": "2024-11-12T01:28:11.523Z"
   },
   {
    "duration": 5,
    "start_time": "2024-11-12T01:28:11.533Z"
   },
   {
    "duration": 4,
    "start_time": "2024-11-12T01:28:11.540Z"
   },
   {
    "duration": 4,
    "start_time": "2024-11-12T01:28:11.546Z"
   },
   {
    "duration": 5,
    "start_time": "2024-11-12T01:28:11.552Z"
   },
   {
    "duration": 4,
    "start_time": "2024-11-12T01:28:11.559Z"
   },
   {
    "duration": 46,
    "start_time": "2024-11-12T01:28:11.565Z"
   },
   {
    "duration": 6,
    "start_time": "2024-11-12T01:28:11.613Z"
   },
   {
    "duration": 5,
    "start_time": "2024-11-12T01:28:11.621Z"
   },
   {
    "duration": 3,
    "start_time": "2024-11-12T01:28:11.628Z"
   },
   {
    "duration": 3,
    "start_time": "2024-11-12T01:28:11.633Z"
   },
   {
    "duration": 3,
    "start_time": "2024-11-12T01:28:11.638Z"
   },
   {
    "duration": 6,
    "start_time": "2024-11-12T01:28:11.642Z"
   },
   {
    "duration": 70,
    "start_time": "2024-11-12T01:28:11.652Z"
   },
   {
    "duration": 13,
    "start_time": "2024-11-12T01:28:11.724Z"
   },
   {
    "duration": 6,
    "start_time": "2024-11-12T01:28:11.738Z"
   },
   {
    "duration": 3,
    "start_time": "2024-11-12T01:28:11.746Z"
   },
   {
    "duration": 11,
    "start_time": "2024-11-12T01:28:11.750Z"
   },
   {
    "duration": 15,
    "start_time": "2024-11-12T01:28:11.763Z"
   },
   {
    "duration": 6,
    "start_time": "2024-11-12T01:28:11.808Z"
   },
   {
    "duration": 15,
    "start_time": "2024-11-12T01:28:11.816Z"
   },
   {
    "duration": 6,
    "start_time": "2024-11-12T01:28:11.832Z"
   },
   {
    "duration": 18,
    "start_time": "2024-11-12T01:28:11.839Z"
   },
   {
    "duration": 60,
    "start_time": "2024-11-12T01:28:11.859Z"
   },
   {
    "duration": 6,
    "start_time": "2024-11-12T01:28:11.920Z"
   },
   {
    "duration": 4,
    "start_time": "2024-11-12T01:28:11.928Z"
   },
   {
    "duration": 681,
    "start_time": "2024-11-12T01:28:11.934Z"
   },
   {
    "duration": 0,
    "start_time": "2024-11-12T01:28:12.617Z"
   },
   {
    "duration": 0,
    "start_time": "2024-11-12T01:28:12.618Z"
   },
   {
    "duration": 0,
    "start_time": "2024-11-12T01:28:12.619Z"
   },
   {
    "duration": 0,
    "start_time": "2024-11-12T01:28:12.620Z"
   },
   {
    "duration": 0,
    "start_time": "2024-11-12T01:28:12.621Z"
   },
   {
    "duration": 0,
    "start_time": "2024-11-12T01:28:12.622Z"
   },
   {
    "duration": 0,
    "start_time": "2024-11-12T01:28:12.623Z"
   },
   {
    "duration": 0,
    "start_time": "2024-11-12T01:28:12.624Z"
   },
   {
    "duration": 0,
    "start_time": "2024-11-12T01:28:12.625Z"
   },
   {
    "duration": 0,
    "start_time": "2024-11-12T01:28:12.626Z"
   },
   {
    "duration": 0,
    "start_time": "2024-11-12T01:28:12.628Z"
   },
   {
    "duration": 0,
    "start_time": "2024-11-12T01:28:12.628Z"
   },
   {
    "duration": 0,
    "start_time": "2024-11-12T01:28:12.629Z"
   },
   {
    "duration": 0,
    "start_time": "2024-11-12T01:28:12.630Z"
   },
   {
    "duration": 0,
    "start_time": "2024-11-12T01:28:12.632Z"
   },
   {
    "duration": 1,
    "start_time": "2024-11-12T01:28:12.632Z"
   },
   {
    "duration": 0,
    "start_time": "2024-11-12T01:28:12.634Z"
   },
   {
    "duration": 0,
    "start_time": "2024-11-12T01:28:12.635Z"
   },
   {
    "duration": 0,
    "start_time": "2024-11-12T01:28:12.635Z"
   },
   {
    "duration": 0,
    "start_time": "2024-11-12T01:28:12.637Z"
   },
   {
    "duration": 1,
    "start_time": "2024-11-12T01:28:12.637Z"
   },
   {
    "duration": 0,
    "start_time": "2024-11-12T01:28:12.638Z"
   },
   {
    "duration": 0,
    "start_time": "2024-11-12T01:28:12.639Z"
   },
   {
    "duration": 0,
    "start_time": "2024-11-12T01:28:12.640Z"
   },
   {
    "duration": 0,
    "start_time": "2024-11-12T01:28:12.641Z"
   },
   {
    "duration": 36,
    "start_time": "2024-11-12T01:29:11.803Z"
   },
   {
    "duration": 6,
    "start_time": "2024-11-12T01:29:12.671Z"
   },
   {
    "duration": 4,
    "start_time": "2024-11-12T01:29:24.273Z"
   },
   {
    "duration": 34,
    "start_time": "2024-11-12T01:31:29.286Z"
   },
   {
    "duration": 6,
    "start_time": "2024-11-12T01:31:30.107Z"
   },
   {
    "duration": 4,
    "start_time": "2024-11-12T01:31:31.283Z"
   },
   {
    "duration": 12,
    "start_time": "2024-11-12T01:31:38.101Z"
   },
   {
    "duration": 55,
    "start_time": "2024-11-12T01:31:45.168Z"
   },
   {
    "duration": 3,
    "start_time": "2024-11-12T01:31:47.017Z"
   },
   {
    "duration": 4,
    "start_time": "2024-11-12T01:31:51.912Z"
   },
   {
    "duration": 5,
    "start_time": "2024-11-12T01:31:53.026Z"
   },
   {
    "duration": 70,
    "start_time": "2024-11-12T01:31:54.105Z"
   },
   {
    "duration": 4,
    "start_time": "2024-11-12T01:33:43.390Z"
   },
   {
    "duration": 4,
    "start_time": "2024-11-12T01:33:51.665Z"
   },
   {
    "duration": 815,
    "start_time": "2024-11-12T01:34:06.642Z"
   },
   {
    "duration": 203,
    "start_time": "2024-11-12T01:34:07.460Z"
   },
   {
    "duration": 9,
    "start_time": "2024-11-12T01:34:07.665Z"
   },
   {
    "duration": 122,
    "start_time": "2024-11-12T01:34:07.675Z"
   },
   {
    "duration": 15,
    "start_time": "2024-11-12T01:34:07.800Z"
   },
   {
    "duration": 24,
    "start_time": "2024-11-12T01:34:07.816Z"
   },
   {
    "duration": 5,
    "start_time": "2024-11-12T01:34:07.845Z"
   },
   {
    "duration": 6,
    "start_time": "2024-11-12T01:34:07.852Z"
   },
   {
    "duration": 6,
    "start_time": "2024-11-12T01:34:07.860Z"
   },
   {
    "duration": 69,
    "start_time": "2024-11-12T01:34:07.868Z"
   },
   {
    "duration": 9,
    "start_time": "2024-11-12T01:34:07.939Z"
   },
   {
    "duration": 22,
    "start_time": "2024-11-12T01:34:07.950Z"
   },
   {
    "duration": 25,
    "start_time": "2024-11-12T01:34:07.974Z"
   },
   {
    "duration": 18,
    "start_time": "2024-11-12T01:34:08.020Z"
   },
   {
    "duration": 7,
    "start_time": "2024-11-12T01:34:08.039Z"
   },
   {
    "duration": 51,
    "start_time": "2024-11-12T01:34:08.048Z"
   },
   {
    "duration": 81,
    "start_time": "2024-11-12T01:34:08.101Z"
   },
   {
    "duration": 58,
    "start_time": "2024-11-12T01:34:08.183Z"
   },
   {
    "duration": 16,
    "start_time": "2024-11-12T01:34:08.243Z"
   },
   {
    "duration": 22,
    "start_time": "2024-11-12T01:34:08.261Z"
   },
   {
    "duration": 27,
    "start_time": "2024-11-12T01:34:08.285Z"
   },
   {
    "duration": 30,
    "start_time": "2024-11-12T01:34:08.313Z"
   },
   {
    "duration": 6,
    "start_time": "2024-11-12T01:34:08.344Z"
   },
   {
    "duration": 7,
    "start_time": "2024-11-12T01:34:08.352Z"
   },
   {
    "duration": 16,
    "start_time": "2024-11-12T01:34:08.360Z"
   },
   {
    "duration": 6,
    "start_time": "2024-11-12T01:34:08.378Z"
   },
   {
    "duration": 48,
    "start_time": "2024-11-12T01:34:08.386Z"
   },
   {
    "duration": 7,
    "start_time": "2024-11-12T01:34:08.435Z"
   },
   {
    "duration": 10,
    "start_time": "2024-11-12T01:34:08.444Z"
   },
   {
    "duration": 150,
    "start_time": "2024-11-12T01:34:08.456Z"
   },
   {
    "duration": 145,
    "start_time": "2024-11-12T01:34:08.608Z"
   },
   {
    "duration": 9,
    "start_time": "2024-11-12T01:34:08.755Z"
   },
   {
    "duration": 166,
    "start_time": "2024-11-12T01:34:08.766Z"
   },
   {
    "duration": 8,
    "start_time": "2024-11-12T01:34:08.933Z"
   },
   {
    "duration": 18,
    "start_time": "2024-11-12T01:34:08.943Z"
   },
   {
    "duration": 23,
    "start_time": "2024-11-12T01:34:08.962Z"
   },
   {
    "duration": 33,
    "start_time": "2024-11-12T01:34:08.987Z"
   },
   {
    "duration": 120,
    "start_time": "2024-11-12T01:34:09.021Z"
   },
   {
    "duration": 8,
    "start_time": "2024-11-12T01:34:09.143Z"
   },
   {
    "duration": 24,
    "start_time": "2024-11-12T01:34:09.152Z"
   },
   {
    "duration": 116,
    "start_time": "2024-11-12T01:34:09.244Z"
   },
   {
    "duration": 19,
    "start_time": "2024-11-12T01:34:09.362Z"
   },
   {
    "duration": 133,
    "start_time": "2024-11-12T01:34:09.383Z"
   },
   {
    "duration": 60,
    "start_time": "2024-11-12T01:34:09.517Z"
   },
   {
    "duration": 3,
    "start_time": "2024-11-12T01:34:09.578Z"
   },
   {
    "duration": 5,
    "start_time": "2024-11-12T01:34:09.583Z"
   },
   {
    "duration": 22,
    "start_time": "2024-11-12T01:34:09.590Z"
   },
   {
    "duration": 23,
    "start_time": "2024-11-12T01:34:09.614Z"
   },
   {
    "duration": 58,
    "start_time": "2024-11-12T01:34:09.639Z"
   },
   {
    "duration": 4,
    "start_time": "2024-11-12T01:34:09.699Z"
   },
   {
    "duration": 20,
    "start_time": "2024-11-12T01:34:09.704Z"
   },
   {
    "duration": 10,
    "start_time": "2024-11-12T01:34:09.733Z"
   },
   {
    "duration": 6,
    "start_time": "2024-11-12T01:34:09.744Z"
   },
   {
    "duration": 7,
    "start_time": "2024-11-12T01:34:09.751Z"
   },
   {
    "duration": 11,
    "start_time": "2024-11-12T01:34:09.760Z"
   },
   {
    "duration": 5,
    "start_time": "2024-11-12T01:34:09.774Z"
   },
   {
    "duration": 4,
    "start_time": "2024-11-12T01:34:09.781Z"
   },
   {
    "duration": 5,
    "start_time": "2024-11-12T01:34:09.787Z"
   },
   {
    "duration": 38,
    "start_time": "2024-11-12T01:34:09.794Z"
   },
   {
    "duration": 6,
    "start_time": "2024-11-12T01:34:09.834Z"
   },
   {
    "duration": 4,
    "start_time": "2024-11-12T01:34:09.841Z"
   },
   {
    "duration": 4,
    "start_time": "2024-11-12T01:34:09.847Z"
   },
   {
    "duration": 2,
    "start_time": "2024-11-12T01:34:09.853Z"
   },
   {
    "duration": 5,
    "start_time": "2024-11-12T01:34:09.857Z"
   },
   {
    "duration": 25,
    "start_time": "2024-11-12T01:34:09.863Z"
   },
   {
    "duration": 47,
    "start_time": "2024-11-12T01:34:09.890Z"
   },
   {
    "duration": 8,
    "start_time": "2024-11-12T01:34:09.938Z"
   },
   {
    "duration": 3,
    "start_time": "2024-11-12T01:34:09.947Z"
   },
   {
    "duration": 10,
    "start_time": "2024-11-12T01:34:09.951Z"
   },
   {
    "duration": 16,
    "start_time": "2024-11-12T01:34:09.963Z"
   },
   {
    "duration": 6,
    "start_time": "2024-11-12T01:34:09.980Z"
   },
   {
    "duration": 41,
    "start_time": "2024-11-12T01:34:09.987Z"
   },
   {
    "duration": 10,
    "start_time": "2024-11-12T01:34:10.030Z"
   },
   {
    "duration": 17,
    "start_time": "2024-11-12T01:34:10.042Z"
   },
   {
    "duration": 37,
    "start_time": "2024-11-12T01:34:10.060Z"
   },
   {
    "duration": 39,
    "start_time": "2024-11-12T01:34:10.098Z"
   },
   {
    "duration": 4,
    "start_time": "2024-11-12T01:34:10.139Z"
   },
   {
    "duration": 12,
    "start_time": "2024-11-12T01:34:10.145Z"
   },
   {
    "duration": 70,
    "start_time": "2024-11-12T01:34:10.158Z"
   },
   {
    "duration": 4,
    "start_time": "2024-11-12T01:34:10.229Z"
   },
   {
    "duration": 4,
    "start_time": "2024-11-12T01:34:10.234Z"
   },
   {
    "duration": 4,
    "start_time": "2024-11-12T01:34:10.239Z"
   },
   {
    "duration": 4,
    "start_time": "2024-11-12T01:34:10.245Z"
   },
   {
    "duration": 724,
    "start_time": "2024-11-12T01:34:10.252Z"
   },
   {
    "duration": 0,
    "start_time": "2024-11-12T01:34:10.977Z"
   },
   {
    "duration": 0,
    "start_time": "2024-11-12T01:34:10.980Z"
   },
   {
    "duration": 0,
    "start_time": "2024-11-12T01:34:10.981Z"
   },
   {
    "duration": 0,
    "start_time": "2024-11-12T01:34:10.982Z"
   },
   {
    "duration": 0,
    "start_time": "2024-11-12T01:34:10.983Z"
   },
   {
    "duration": 0,
    "start_time": "2024-11-12T01:34:10.984Z"
   },
   {
    "duration": 0,
    "start_time": "2024-11-12T01:34:10.985Z"
   },
   {
    "duration": 0,
    "start_time": "2024-11-12T01:34:10.986Z"
   },
   {
    "duration": 0,
    "start_time": "2024-11-12T01:34:10.987Z"
   },
   {
    "duration": 0,
    "start_time": "2024-11-12T01:34:11.010Z"
   },
   {
    "duration": 0,
    "start_time": "2024-11-12T01:34:11.011Z"
   },
   {
    "duration": 0,
    "start_time": "2024-11-12T01:34:11.017Z"
   },
   {
    "duration": 0,
    "start_time": "2024-11-12T01:34:11.018Z"
   },
   {
    "duration": 0,
    "start_time": "2024-11-12T01:34:11.018Z"
   },
   {
    "duration": 0,
    "start_time": "2024-11-12T01:34:11.019Z"
   },
   {
    "duration": 0,
    "start_time": "2024-11-12T01:34:11.020Z"
   },
   {
    "duration": 0,
    "start_time": "2024-11-12T01:34:11.020Z"
   },
   {
    "duration": 0,
    "start_time": "2024-11-12T01:34:11.021Z"
   },
   {
    "duration": 0,
    "start_time": "2024-11-12T01:34:11.021Z"
   },
   {
    "duration": 0,
    "start_time": "2024-11-12T01:34:11.022Z"
   },
   {
    "duration": 61,
    "start_time": "2024-11-12T01:35:39.935Z"
   },
   {
    "duration": 3,
    "start_time": "2024-11-12T01:36:05.973Z"
   },
   {
    "duration": 21,
    "start_time": "2024-11-12T01:36:12.238Z"
   },
   {
    "duration": 4,
    "start_time": "2024-11-12T01:37:10.191Z"
   },
   {
    "duration": 91,
    "start_time": "2024-11-12T01:37:15.243Z"
   },
   {
    "duration": 13,
    "start_time": "2024-11-12T01:37:31.817Z"
   },
   {
    "duration": 97,
    "start_time": "2024-11-12T01:37:32.449Z"
   },
   {
    "duration": 53,
    "start_time": "2024-11-12T01:39:01.196Z"
   },
   {
    "duration": 6,
    "start_time": "2024-11-12T01:39:02.158Z"
   },
   {
    "duration": 4,
    "start_time": "2024-11-12T01:39:08.183Z"
   },
   {
    "duration": 12,
    "start_time": "2024-11-12T01:39:30.964Z"
   },
   {
    "duration": 62,
    "start_time": "2024-11-12T01:39:31.725Z"
   },
   {
    "duration": 3,
    "start_time": "2024-11-12T01:39:32.576Z"
   },
   {
    "duration": 4,
    "start_time": "2024-11-12T01:39:34.830Z"
   },
   {
    "duration": 5,
    "start_time": "2024-11-12T01:39:36.197Z"
   },
   {
    "duration": 5,
    "start_time": "2024-11-12T01:39:47.877Z"
   },
   {
    "duration": 102,
    "start_time": "2024-11-12T01:39:48.648Z"
   },
   {
    "duration": 110,
    "start_time": "2024-11-12T01:39:55.132Z"
   },
   {
    "duration": 130,
    "start_time": "2024-11-12T01:39:57.502Z"
   },
   {
    "duration": 100,
    "start_time": "2024-11-12T01:40:06.670Z"
   },
   {
    "duration": 111,
    "start_time": "2024-11-12T01:41:22.117Z"
   },
   {
    "duration": 102,
    "start_time": "2024-11-12T01:41:24.451Z"
   },
   {
    "duration": 103,
    "start_time": "2024-11-12T01:41:25.959Z"
   },
   {
    "duration": 109,
    "start_time": "2024-11-12T01:41:27.454Z"
   },
   {
    "duration": 99,
    "start_time": "2024-11-12T01:41:40.286Z"
   },
   {
    "duration": 101,
    "start_time": "2024-11-12T01:44:08.586Z"
   },
   {
    "duration": 109,
    "start_time": "2024-11-12T01:44:12.252Z"
   },
   {
    "duration": 105,
    "start_time": "2024-11-12T01:44:20.966Z"
   },
   {
    "duration": 113,
    "start_time": "2024-11-12T01:44:22.923Z"
   },
   {
    "duration": 106,
    "start_time": "2024-11-12T01:44:24.619Z"
   },
   {
    "duration": 114,
    "start_time": "2024-11-12T01:44:44.780Z"
   },
   {
    "duration": 2,
    "start_time": "2024-11-12T01:44:55.559Z"
   },
   {
    "duration": 11,
    "start_time": "2024-11-12T01:46:11.809Z"
   },
   {
    "duration": 145,
    "start_time": "2024-11-12T01:46:14.145Z"
   },
   {
    "duration": 134,
    "start_time": "2024-11-12T01:46:20.273Z"
   },
   {
    "duration": 134,
    "start_time": "2024-11-12T01:46:32.552Z"
   },
   {
    "duration": 153,
    "start_time": "2024-11-12T01:46:35.329Z"
   },
   {
    "duration": 146,
    "start_time": "2024-11-12T01:46:36.890Z"
   },
   {
    "duration": 738,
    "start_time": "2024-11-12T01:46:50.803Z"
   },
   {
    "duration": 203,
    "start_time": "2024-11-12T01:46:51.544Z"
   },
   {
    "duration": 8,
    "start_time": "2024-11-12T01:46:51.748Z"
   },
   {
    "duration": 122,
    "start_time": "2024-11-12T01:46:51.758Z"
   },
   {
    "duration": 6,
    "start_time": "2024-11-12T01:46:51.882Z"
   },
   {
    "duration": 39,
    "start_time": "2024-11-12T01:46:51.889Z"
   },
   {
    "duration": 3,
    "start_time": "2024-11-12T01:46:51.936Z"
   },
   {
    "duration": 5,
    "start_time": "2024-11-12T01:46:51.940Z"
   },
   {
    "duration": 7,
    "start_time": "2024-11-12T01:46:51.947Z"
   },
   {
    "duration": 45,
    "start_time": "2024-11-12T01:46:51.957Z"
   },
   {
    "duration": 27,
    "start_time": "2024-11-12T01:46:52.003Z"
   },
   {
    "duration": 21,
    "start_time": "2024-11-12T01:46:52.035Z"
   },
   {
    "duration": 26,
    "start_time": "2024-11-12T01:46:52.058Z"
   },
   {
    "duration": 15,
    "start_time": "2024-11-12T01:46:52.086Z"
   },
   {
    "duration": 11,
    "start_time": "2024-11-12T01:46:52.102Z"
   },
   {
    "duration": 57,
    "start_time": "2024-11-12T01:46:52.114Z"
   },
   {
    "duration": 68,
    "start_time": "2024-11-12T01:46:52.173Z"
   },
   {
    "duration": 52,
    "start_time": "2024-11-12T01:46:52.243Z"
   },
   {
    "duration": 40,
    "start_time": "2024-11-12T01:46:52.296Z"
   },
   {
    "duration": 22,
    "start_time": "2024-11-12T01:46:52.339Z"
   },
   {
    "duration": 15,
    "start_time": "2024-11-12T01:46:52.363Z"
   },
   {
    "duration": 18,
    "start_time": "2024-11-12T01:46:52.380Z"
   },
   {
    "duration": 33,
    "start_time": "2024-11-12T01:46:52.400Z"
   },
   {
    "duration": 8,
    "start_time": "2024-11-12T01:46:52.435Z"
   },
   {
    "duration": 14,
    "start_time": "2024-11-12T01:46:52.444Z"
   },
   {
    "duration": 5,
    "start_time": "2024-11-12T01:46:52.460Z"
   },
   {
    "duration": 12,
    "start_time": "2024-11-12T01:46:52.467Z"
   },
   {
    "duration": 6,
    "start_time": "2024-11-12T01:46:52.484Z"
   },
   {
    "duration": 45,
    "start_time": "2024-11-12T01:46:52.492Z"
   },
   {
    "duration": 150,
    "start_time": "2024-11-12T01:46:52.538Z"
   },
   {
    "duration": 160,
    "start_time": "2024-11-12T01:46:52.691Z"
   },
   {
    "duration": 9,
    "start_time": "2024-11-12T01:46:52.853Z"
   },
   {
    "duration": 172,
    "start_time": "2024-11-12T01:46:52.864Z"
   },
   {
    "duration": 7,
    "start_time": "2024-11-12T01:46:53.038Z"
   },
   {
    "duration": 18,
    "start_time": "2024-11-12T01:46:53.047Z"
   },
   {
    "duration": 23,
    "start_time": "2024-11-12T01:46:53.066Z"
   },
   {
    "duration": 14,
    "start_time": "2024-11-12T01:46:53.091Z"
   },
   {
    "duration": 133,
    "start_time": "2024-11-12T01:46:53.106Z"
   },
   {
    "duration": 8,
    "start_time": "2024-11-12T01:46:53.241Z"
   },
   {
    "duration": 22,
    "start_time": "2024-11-12T01:46:53.250Z"
   },
   {
    "duration": 165,
    "start_time": "2024-11-12T01:46:53.274Z"
   },
   {
    "duration": 18,
    "start_time": "2024-11-12T01:46:53.442Z"
   },
   {
    "duration": 136,
    "start_time": "2024-11-12T01:46:53.461Z"
   },
   {
    "duration": 49,
    "start_time": "2024-11-12T01:46:53.599Z"
   },
   {
    "duration": 3,
    "start_time": "2024-11-12T01:46:53.649Z"
   },
   {
    "duration": 4,
    "start_time": "2024-11-12T01:46:53.653Z"
   },
   {
    "duration": 7,
    "start_time": "2024-11-12T01:46:53.658Z"
   },
   {
    "duration": 6,
    "start_time": "2024-11-12T01:46:53.666Z"
   },
   {
    "duration": 85,
    "start_time": "2024-11-12T01:46:53.674Z"
   },
   {
    "duration": 4,
    "start_time": "2024-11-12T01:46:53.760Z"
   },
   {
    "duration": 7,
    "start_time": "2024-11-12T01:46:53.766Z"
   },
   {
    "duration": 6,
    "start_time": "2024-11-12T01:46:53.774Z"
   },
   {
    "duration": 5,
    "start_time": "2024-11-12T01:46:53.782Z"
   },
   {
    "duration": 31,
    "start_time": "2024-11-12T01:46:53.789Z"
   },
   {
    "duration": 10,
    "start_time": "2024-11-12T01:46:53.821Z"
   },
   {
    "duration": 7,
    "start_time": "2024-11-12T01:46:53.832Z"
   },
   {
    "duration": 3,
    "start_time": "2024-11-12T01:46:53.841Z"
   },
   {
    "duration": 5,
    "start_time": "2024-11-12T01:46:53.847Z"
   },
   {
    "duration": 4,
    "start_time": "2024-11-12T01:46:53.854Z"
   },
   {
    "duration": 6,
    "start_time": "2024-11-12T01:46:53.860Z"
   },
   {
    "duration": 4,
    "start_time": "2024-11-12T01:46:53.868Z"
   },
   {
    "duration": 5,
    "start_time": "2024-11-12T01:46:53.876Z"
   },
   {
    "duration": 3,
    "start_time": "2024-11-12T01:46:53.883Z"
   },
   {
    "duration": 49,
    "start_time": "2024-11-12T01:46:53.888Z"
   },
   {
    "duration": 24,
    "start_time": "2024-11-12T01:46:53.938Z"
   },
   {
    "duration": 13,
    "start_time": "2024-11-12T01:46:53.963Z"
   },
   {
    "duration": 6,
    "start_time": "2024-11-12T01:46:53.978Z"
   },
   {
    "duration": 4,
    "start_time": "2024-11-12T01:46:53.985Z"
   },
   {
    "duration": 9,
    "start_time": "2024-11-12T01:46:53.991Z"
   },
   {
    "duration": 30,
    "start_time": "2024-11-12T01:46:54.002Z"
   },
   {
    "duration": 6,
    "start_time": "2024-11-12T01:46:54.033Z"
   },
   {
    "duration": 14,
    "start_time": "2024-11-12T01:46:54.040Z"
   },
   {
    "duration": 5,
    "start_time": "2024-11-12T01:46:54.055Z"
   },
   {
    "duration": 17,
    "start_time": "2024-11-12T01:46:54.062Z"
   },
   {
    "duration": 57,
    "start_time": "2024-11-12T01:46:54.081Z"
   },
   {
    "duration": 5,
    "start_time": "2024-11-12T01:46:54.140Z"
   },
   {
    "duration": 4,
    "start_time": "2024-11-12T01:46:54.148Z"
   },
   {
    "duration": 12,
    "start_time": "2024-11-12T01:46:54.153Z"
   },
   {
    "duration": 84,
    "start_time": "2024-11-12T01:46:54.167Z"
   },
   {
    "duration": 3,
    "start_time": "2024-11-12T01:46:54.253Z"
   },
   {
    "duration": 4,
    "start_time": "2024-11-12T01:46:54.258Z"
   },
   {
    "duration": 5,
    "start_time": "2024-11-12T01:46:54.271Z"
   },
   {
    "duration": 108,
    "start_time": "2024-11-12T01:46:54.278Z"
   },
   {
    "duration": 101,
    "start_time": "2024-11-12T01:46:54.387Z"
   },
   {
    "duration": 98,
    "start_time": "2024-11-12T01:46:54.490Z"
   },
   {
    "duration": 105,
    "start_time": "2024-11-12T01:46:54.590Z"
   },
   {
    "duration": 107,
    "start_time": "2024-11-12T01:46:54.697Z"
   },
   {
    "duration": 115,
    "start_time": "2024-11-12T01:46:54.805Z"
   },
   {
    "duration": 108,
    "start_time": "2024-11-12T01:46:54.939Z"
   },
   {
    "duration": 103,
    "start_time": "2024-11-12T01:46:55.049Z"
   },
   {
    "duration": 100,
    "start_time": "2024-11-12T01:46:55.154Z"
   },
   {
    "duration": 108,
    "start_time": "2024-11-12T01:46:55.256Z"
   },
   {
    "duration": 103,
    "start_time": "2024-11-12T01:46:55.366Z"
   },
   {
    "duration": 126,
    "start_time": "2024-11-12T01:46:55.471Z"
   },
   {
    "duration": 104,
    "start_time": "2024-11-12T01:46:55.599Z"
   },
   {
    "duration": 94,
    "start_time": "2024-11-12T01:46:55.705Z"
   },
   {
    "duration": 3,
    "start_time": "2024-11-12T01:46:55.801Z"
   },
   {
    "duration": 7,
    "start_time": "2024-11-12T01:46:55.806Z"
   },
   {
    "duration": 143,
    "start_time": "2024-11-12T01:46:55.815Z"
   },
   {
    "duration": 165,
    "start_time": "2024-11-12T01:46:55.959Z"
   },
   {
    "duration": 139,
    "start_time": "2024-11-12T01:46:56.134Z"
   },
   {
    "duration": 141,
    "start_time": "2024-11-12T01:46:56.275Z"
   },
   {
    "duration": 165,
    "start_time": "2024-11-12T01:46:56.417Z"
   }
  ],
  "kernelspec": {
   "display_name": "Python 3 (ipykernel)",
   "language": "python",
   "name": "python3"
  },
  "language_info": {
   "codemirror_mode": {
    "name": "ipython",
    "version": 3
   },
   "file_extension": ".py",
   "mimetype": "text/x-python",
   "name": "python",
   "nbconvert_exporter": "python",
   "pygments_lexer": "ipython3",
   "version": "3.12.7"
  },
  "toc": {
   "base_numbering": 1,
   "nav_menu": {},
   "number_sections": true,
   "sideBar": true,
   "skip_h1_title": true,
   "title_cell": "Table of Contents",
   "title_sidebar": "Contents",
   "toc_cell": false,
   "toc_position": {},
   "toc_section_display": true,
   "toc_window_display": false
  }
 },
 "nbformat": 4,
 "nbformat_minor": 5
}
